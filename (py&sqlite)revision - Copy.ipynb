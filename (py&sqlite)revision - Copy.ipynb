{
 "cells": [
  {
   "cell_type": "markdown",
   "metadata": {},
   "source": [
    "# 1- Markdown\n"
   ]
  },
  {
   "cell_type": "markdown",
   "metadata": {},
   "source": [
    "<meta charset=\"utf-8\">\n",
    "\n",
    "## headings {#markdown-id}\n",
    "\n",
    "---\n",
    "\n",
    "> This is good\n",
    "\n",
    "<blockquote>This is good</blockquote>\n",
    "\n",
    "---\n",
    "\n",
    "```\n",
    "  print(code)\n",
    "```\n",
    "\n",
    "<code>\n",
    "  print(code)\n",
    "</code>\n",
    "\n",
    "---\n",
    "\n",
    "<b>Ahmed</b> <br> **Mohamed** <br> **Bassiouny**\n",
    "\n",
    "---\n",
    "\n",
    "<i>Ahmed</i> <br> _Mohamed_ <br> _Bassiouny_\n",
    "\n",
    "---\n",
    "\n",
    "Ahmed ~~Mohamed~~ Bassiouny\n",
    "\n",
    "---\n",
    "\n",
    "<ol>\n",
    "<li>Ahmed</li>\n",
    "<li>Mohamed</li>\n",
    "<li>Bassiouny</li>\n",
    "</ol>\n",
    "\n",
    "1. First item\n",
    "2. Second item\n",
    "3. Third item\n",
    "\n",
    "---\n",
    "\n",
    "<ul>\n",
    "<li>Ahmed</li>\n",
    "<li>Mohamed</li>\n",
    "<li>Bassiouny</li>\n",
    "</ul>\n",
    "\n",
    "- Ahmed\n",
    "- Mohamed\n",
    "- Bassiouny\n",
    "\n",
    "---\n",
    "\n",
    "<a href=\"https://www.google.com\" >Link to Google</a>\n",
    "\n",
    "[Section title](#markdown-id)\n",
    "\n",
    "---\n",
    "\n",
    "<table>\n",
    "<tr>\n",
    "<th>Name</th>\n",
    "<th>Address</th>\n",
    "<th>Salary</th>\n",
    "</tr>\n",
    "\n",
    "<tr>\n",
    "<td>Adam</td>\n",
    "<td>Sydney</td>\n",
    "<td>5000</td>\n",
    "</tr>\n",
    "</table>\n",
    "\n",
    "<br>\n",
    "\n",
    "| Syntax    | Description |\n",
    "| --------- | ----------- |\n",
    "| Header    | Title       |\n",
    "| Paragraph | Text        |\n",
    "\n",
    "---\n",
    "\n",
    "![alt text](files/a.png)\n",
    "\n",
    "---\n"
   ]
  },
  {
   "cell_type": "markdown",
   "metadata": {},
   "source": [
    "# 2- Comment\n"
   ]
  },
  {
   "cell_type": "code",
   "execution_count": 1,
   "metadata": {},
   "outputs": [],
   "source": [
    "##comment\n",
    "# you can use (#) to comment any thing"
   ]
  },
  {
   "cell_type": "markdown",
   "metadata": {},
   "source": [
    "# 3- Data Types\n"
   ]
  },
  {
   "cell_type": "code",
   "execution_count": 2,
   "metadata": {},
   "outputs": [
    {
     "name": "stdout",
     "output_type": "stream",
     "text": [
      "<class 'int'>\n",
      "<class 'float'>\n",
      "<class 'complex'>\n",
      "<class 'str'>\n",
      "<class 'bool'>\n",
      "<class 'dict'>\n",
      "<class 'list'>\n",
      "<class 'tuple'>\n",
      "<class 'set'>\n",
      "<class 'list'>\n",
      "<class 'tuple'>\n"
     ]
    }
   ],
   "source": [
    "##data-types\n",
    "print(type(10))  # (10,-10,0) int\n",
    "print(type(10.5))  # (0.5,-5.5,10.0) float\n",
    "print(type(10 + 4j))  # complex ,complex.real , complex.imag\n",
    "print(type(\"+10\"))  # (\"abc\",\"10\",\"+10\") string\n",
    "print(type(True))  # (true , false , 5>0 , 1=3) string\n",
    "print(type({\"one\": 10, \"two\": 20}))  # dict => Dictionary\n",
    "print(type([1, \"AMB\", 3]))  # list(array)\n",
    "print(type((1, \"AMB\", 3)))  # tuple\n",
    "print(type({1, \"AMB\", 3}))  # set\n",
    "\n",
    "# List you can add and modify any item\n",
    "print(type([1, \"AMB\", 3]))  # list(array)\n",
    "\n",
    "# Tuples you can not add or delete items\n",
    "print(type((1, \"AMB\", 3)))  # tuple"
   ]
  },
  {
   "cell_type": "markdown",
   "metadata": {},
   "source": [
    "# 4- Var\n"
   ]
  },
  {
   "cell_type": "code",
   "execution_count": 3,
   "metadata": {},
   "outputs": [],
   "source": [
    "# (1)\n",
    "a = 1\n",
    "# (2)\n",
    "a, b, c = 1, 2, 3"
   ]
  },
  {
   "cell_type": "markdown",
   "metadata": {},
   "source": [
    "# 5- Escape Characters\n"
   ]
  },
  {
   "cell_type": "code",
   "execution_count": 4,
   "metadata": {},
   "outputs": [
    {
     "name": "stdout",
     "output_type": "stream",
     "text": [
      "Hell World\n",
      "Hello \n",
      " World\n",
      "Hello \t World\n",
      "****56\n",
      "Hello \\ World\n"
     ]
    }
   ],
   "source": [
    "## Escape Sequences Characters\n",
    "# (\\b) Back Space\n",
    "print(\"Hello\\b World\")  # => Hell World\n",
    "# (\\n) line feed\n",
    "print(\"Hello \\n World\")  # => Hello (at new line) World\n",
    "# (\\t) Horizontal Tab\n",
    "print(\"Hello \\t World\")  # => Hello  World\n",
    "# (\\r) Carriage Return\n",
    "print(\"123456\\r****\")  # => ****56\n",
    "# (\\) Back slash\n",
    "print(\"Hello \\\\ World\")  # => Hello \\ World"
   ]
  },
  {
   "cell_type": "markdown",
   "metadata": {},
   "source": [
    "# 6- Concatenation\n"
   ]
  },
  {
   "cell_type": "code",
   "execution_count": 5,
   "metadata": {},
   "outputs": [
    {
     "name": "stdout",
     "output_type": "stream",
     "text": [
      "\n",
      " =-=-=-=-=-=-=-=-=-=-=-=-=-=-=-=-=-=-=-=-= \n",
      "\n",
      "ahmed bassiouny 15 400\n",
      "\n",
      " =-=-=-=-=-=-=-=-=-=-=-=-=-=-=-=-=-=-=-=-= \n",
      "\n"
     ]
    }
   ],
   "source": [
    "txt1 = \"ahmed\"\n",
    "txt2 = \"bassiouny\"\n",
    "num1 = 20\n",
    "num2 = 20\n",
    "\n",
    "print(\"\\n\", \"=-\" * 20 + \"=\", \"\\n\")\n",
    "\n",
    "print(txt1 + \" \" + txt2, (5 + 10), (num1 * num2))\n",
    "\n",
    "print(\"\\n\", \"=-\" * 20 + \"=\", \"\\n\")"
   ]
  },
  {
   "cell_type": "markdown",
   "metadata": {},
   "source": [
    "# 7- Multy line text\n"
   ]
  },
  {
   "cell_type": "code",
   "execution_count": 6,
   "metadata": {},
   "outputs": [
    {
     "name": "stdout",
     "output_type": "stream",
     "text": [
      "ahmed\n",
      "mohamed\n",
      "bassiouny\n",
      "'amb'\n",
      "\n"
     ]
    }
   ],
   "source": [
    "## Multy line text use => (\"\"\" txt \"\"\") or (''' txt ''')\n",
    "txt1 = \"\"\"ahmed\n",
    "mohamed\n",
    "bassiouny\n",
    "'amb'\n",
    "\"\"\"\n",
    "print(txt1)"
   ]
  },
  {
   "cell_type": "markdown",
   "metadata": {},
   "source": [
    "# 8- string\n"
   ]
  },
  {
   "cell_type": "markdown",
   "metadata": {},
   "source": [
    "### 1- Indexing & Slicing\n"
   ]
  },
  {
   "cell_type": "code",
   "execution_count": 7,
   "metadata": {},
   "outputs": [
    {
     "name": "stdout",
     "output_type": "stream",
     "text": [
      " \n",
      " \n",
      "   Ah\n",
      "   Ah\n",
      "ed Bassiouny   \n",
      "   Ahmed Mohamed Bassiouny   \n",
      "   Ahmed Mohamed Bassiouny   \n",
      "  he oae ason  \n",
      "[1, 2, 3, 4, 5]\n",
      "[0, 2, 0, 4, 0]\n",
      "[0, 0, 0, 4, 0]\n"
     ]
    }
   ],
   "source": [
    "txt = \"   Ahmed Mohamed Bassiouny   \"\n",
    "print(txt[0])  # =>A\n",
    "print(txt[-1])  # =>y\n",
    "print(txt[0:5])  # =>Ahmed (from 0 to 4)\n",
    "print(txt[:5])  # =>Ahmed (from 0 to 4)\n",
    "print(txt[14:])  # =>Ahmed (from 14 to end)\n",
    "print(txt[:])  # =>Ahmed Mohamed Bassiouny (from 0 to end) all text\n",
    "print(txt[::1])  # =>Ahmed Mohamed Bassiouny (from 0 to end) 1 step\n",
    "print(txt[::2])  # =>AmdMhmdBsiuy (from 0 to end) 2 step\n",
    "\n",
    "\n",
    "lst = [1, 2, 3, 4, 5]\n",
    "print(lst)\n",
    "lst[::2] = [0, 0, 0]\n",
    "print(lst)\n",
    "lst[:3] = [0, 0, 0]\n",
    "print(lst)"
   ]
  },
  {
   "cell_type": "markdown",
   "metadata": {},
   "source": [
    "### 2- Strings Methods\n"
   ]
  },
  {
   "cell_type": "markdown",
   "metadata": {},
   "source": [
    "- len()\n",
    "- strip()\n",
    "- title()\n",
    "- capitalize()\n",
    "- upper() & lower()\n",
    "- swapcase()\n",
    "- split() & rsplit()\n",
    "- splitLines() == split(\"\\n\")\n",
    "- join()\n",
    "- join()\n",
    "- zfill()\n",
    "- center()\n",
    "- rjust() & ljust()\n",
    "- count()\n",
    "- startswith() & endswith()\n",
    "- index()\n",
    "- find()\n",
    "- expandtabs()\n",
    "- is()\n"
   ]
  },
  {
   "cell_type": "code",
   "execution_count": 8,
   "metadata": {},
   "outputs": [
    {
     "name": "stdout",
     "output_type": "stream",
     "text": [
      "29\n",
      "Ahmed Mohamed Bassiouny\n",
      "I Love 2D Graphics And 3G Technology And Python\n",
      "I love 2d graphics and 3g technology and python\n",
      "AHMED bassiouny\n",
      "aaaBBB\n",
      "['Ahmed', 'Mohamed', 'Bassiouny']\n",
      "['I', 'Love', 'Python', 'and-PHP-and-MySQL']\n",
      "['ahmed', 'mohamed', 'bassiouny']\n",
      "Ahmed Mohamed Bassiouny\n",
      "Ahmed-Mohamed-Bassiouny\n",
      "001\n",
      "011\n",
      "111\n",
      "   AMB   \n",
      "###AMB###\n",
      "      AMB\n",
      "AMB######\n",
      "2\n",
      "0\n",
      "True\n",
      "True\n",
      "False\n",
      "True\n",
      "0\n",
      "3\n",
      "1\n",
      "2\n",
      "-1\n",
      "0\n",
      "3\n",
      "1\n",
      "2\n",
      "Hello Wor1d I     Love  python\n",
      "True\n",
      "False\n",
      "True\n",
      "False\n",
      "True\n",
      "False\n",
      "False\n",
      "True\n",
      "False\n",
      "True\n",
      "False\n",
      "True\n",
      "True\n",
      "True\n",
      "True\n"
     ]
    }
   ],
   "source": [
    "txt = \"   Ahmed Mohamed Bassiouny   \"\n",
    "\n",
    "##len()\n",
    "print(len(txt))  # =>29\n",
    "\n",
    "##strip()\n",
    "print(txt.strip())  # =>Ahmed Mohamed Bassiouny len(23) , rstrip() , lstrip()\n",
    "\n",
    "##title()\n",
    "b = \"I Love 2d graphics and 3g technology and python\"\n",
    "print(b.title())\n",
    "\n",
    "##capitalize()\n",
    "c = \"i love 2d Graphics and 3g Technology and python\"\n",
    "print(b.capitalize())\n",
    "\n",
    "##upper() & lower()\n",
    "a, b = \"ahmED\", \"BASSiounY\"\n",
    "print(a.upper() + \" \" + b.lower())\n",
    "\n",
    "##swapcase()\n",
    "g = \"AAAbbb\"\n",
    "print(g.swapcase())\n",
    "\n",
    "##split() & rsplit()\n",
    "print(txt.split())  # => ['Ahmed', 'Mohamed', 'Bassiouny']\n",
    "c = \"I-Love-Python-and-PHP-and-MySQL\"\n",
    "print(c.split(\"-\", 3))  # => ['I', 'Love', 'Python', 'and-PHP-and-MySQL']\n",
    "\n",
    "##splitLines() == split(\"\\n\")\n",
    "txt5 = \"\"\"ahmed\n",
    "mohamed\n",
    "bassiouny\"\"\"  # or txt5 = \"ahmed\\nmohamed\\nbassiouny\"\n",
    "print(txt5.splitlines())  # => ['ahmed', 'mohamed', 'bassiouny']\n",
    "\n",
    "##join()\n",
    "x = [\"Ahmed\", \"Mohamed\", \"Bassiouny\"]\n",
    "print(\" \".join(x))  # => Ahmed Mohamed Bassiouny\n",
    "\n",
    "##join()\n",
    "x = \"Ahmed Mohamed Bassiouny\"\n",
    "print(x.replace(\" \", \"-\"))  # => Ahmed-Mohamed-Bassiouny\n",
    "\n",
    "##zfill()\n",
    "a, b, c = \"1\", \"11\", \"111\"\n",
    "print(a.zfill(3) + \"\\n\" + b.zfill(3) + \"\\n\" + c.zfill(3))\n",
    "\n",
    "##center()\n",
    "e = \"AMB\"\n",
    "print(e.center(9))  # Spaces =>  Osama\n",
    "print(e.center(9, \"#\"))  # Hashes =>##Osama##\n",
    "\n",
    "##rjust() & ljust()\n",
    "e = \"AMB\"\n",
    "print(e.rjust(9))  # Spaces =>      AMB\n",
    "print(e.ljust(9, \"#\"))  # Hashes =>AMB######\n",
    "\n",
    "##count()\n",
    "f = \"i Love Python and PHP Because PHP is Easy\"\n",
    "print(f.count(\"PHP\"))  # => 2\n",
    "print(f.count(\"PHP\", 0, 20))  # => 0\n",
    "\n",
    "##startswith() & endswith()\n",
    "g = \"abcd\"\n",
    "print(g.startswith(\"ab\"))  # =>True\n",
    "print(g.endswith(\"cd\"))  # =>True\n",
    "print(g.endswith(\"bc\"))  # =>False\n",
    "print(g.endswith(\"bc\", 1, 3))  # =>True\n",
    "\n",
    "##index()\n",
    "h = \"abcd\"\n",
    "# print (g.index(\"z\"))     # =>Error\n",
    "print(g.index(\"a\"))  # =>0\n",
    "print(g.index(\"d\"))  # =>3\n",
    "print(g.index(\"bc\"))  # =>1\n",
    "print(g.index(\"c\", 1, 3))  # =>2\n",
    "\n",
    "##find()\n",
    "h = \"abcd\"\n",
    "print(g.find(\"z\"))  # =>-1\n",
    "print(g.find(\"a\"))  # =>0\n",
    "print(g.find(\"d\"))  # =>3\n",
    "print(g.find(\"bc\"))  # =>1\n",
    "print(g.find(\"c\", 1, 3))  # =>2\n",
    "\n",
    "##expandtabs()\n",
    "x = \"Hello\\tWor1d\\tI\\tLove\\tpython\"\n",
    "print(x.expandtabs(6))\n",
    "\n",
    "##is()\n",
    "one = \"I Love Python And 3G\"\n",
    "two = \"I Love Python And 3g\"\n",
    "print(one.istitle())\n",
    "print(two.istitle())\n",
    "\n",
    "three = \" \"\n",
    "four = \"\"\n",
    "print(three.isspace())\n",
    "print(four.isspace())\n",
    "\n",
    "five = \"i love python\"\n",
    "six = \"I Love Python\"\n",
    "print(five.islower())\n",
    "print(six.islower())\n",
    "\n",
    "seven = \"1osama_elzero\"\n",
    "eight = \"OsamaElzero100\"\n",
    "nine = \"Osama--Elzero100\"\n",
    "\n",
    "print(seven.isidentifier())\n",
    "print(eight.isidentifier())\n",
    "print(nine.isidentifier())\n",
    "\n",
    "x = \"AaaaaBbbbbb\"\n",
    "y = \"AaaaaBbbbbb111\"\n",
    "print(x.isalpha())\n",
    "print(y.isalpha())\n",
    "\n",
    "u = \"AaaaaBbbbbb\"\n",
    "z = \"AaaaaBbbbbb111\"\n",
    "print(u.isalnum())\n",
    "print(z.isalnum())\n",
    "\n",
    "u = \"1010114\"\n",
    "z = \"5555\"\n",
    "print(u.isdigit())\n",
    "print(z.isnumeric())"
   ]
  },
  {
   "cell_type": "markdown",
   "metadata": {},
   "source": [
    "### 3- Formating\n"
   ]
  },
  {
   "cell_type": "code",
   "execution_count": 9,
   "metadata": {},
   "outputs": [
    {
     "name": "stdout",
     "output_type": "stream",
     "text": [
      "Iam Ahmed and my age is 10 Iam python developer and my salary is 2.50\n",
      "Iam Ahmed and my age is 10 Iam python developer and my salary is 2.50\n",
      "Iam Ahmed and my age is 10 Iam python developer and my salary is 2.5\n",
      "my new salary is 25,000.00\n",
      "my new salary is 25,000\n",
      "my variables 10 2 25000\n",
      "my variables 2.50 10 25000\n"
     ]
    }
   ],
   "source": [
    "##Formating\n",
    "x = \"Ahmed Mohamed Bassiouny\"\n",
    "y = 10\n",
    "z = 2.5\n",
    "v = 25000\n",
    "# Format version\n",
    "print(\n",
    "    \"Iam %.5s and my age is %d Iam %s developer and my salary is %.2f\"\n",
    "    % (x, y, \"python\", z)\n",
    ")\n",
    "print(\n",
    "    \"Iam {:.5s} and my age is {} Iam {} developer and my salary is {:.2f}\".format(\n",
    "        x, y, \"python\", z\n",
    "    )\n",
    ")\n",
    "print(f\"Iam {x:.5s} and my age is {y} Iam python developer and my salary is {z}\")\n",
    "# Format money\n",
    "print(\"my new salary is {:-,.2f}\".format(v))\n",
    "print(\"my new salary is {:,d}\".format(v))\n",
    "# reArrange\n",
    "print(\"my variables %d %d %d\" % (y, z, v))\n",
    "print(\"my variables {1:.2f} {0} {2}\".format(y, z, v))"
   ]
  },
  {
   "cell_type": "code",
   "execution_count": 10,
   "metadata": {},
   "outputs": [
    {
     "data": {
      "text/plain": [
       "{'osama': {'HTML': '70%', 'CSS': '80%', 'JS': '70%'},\n",
       " 'Ahmed': {'HTML-1': '90%', 'CSS-1': '80%', 'JS-1': '90%'}}"
      ]
     },
     "execution_count": 10,
     "metadata": {},
     "output_type": "execute_result"
    }
   ],
   "source": [
    "peoples = {\n",
    "    \"osama\": {\"HTML\": \"70%\", \"CSS\": \"80%\", \"JS\": \"70%\"},\n",
    "    \"Ahmed\": {\"HTML-1\": \"90%\", \"CSS-1\": \"80%\", \"JS-1\": \"90%\"},\n",
    "}\n",
    "peoples"
   ]
  },
  {
   "cell_type": "code",
   "execution_count": 11,
   "metadata": {},
   "outputs": [
    {
     "name": "stdout",
     "output_type": "stream",
     "text": [
      "osama skills is :\n",
      " --HTML => 70%\n",
      " --CSS => 80%\n",
      " --JS => 70%\n",
      "Ahmed skills is :\n",
      " --HTML-1 => 90%\n",
      " --CSS-1 => 80%\n",
      " --JS-1 => 90%\n"
     ]
    }
   ],
   "source": [
    "for person in peoples:\n",
    "    print(f\"{person} skills is :\")\n",
    "    for skill in peoples[person]:\n",
    "        print(f\" --{skill} => {peoples[person][skill]}\")"
   ]
  },
  {
   "cell_type": "markdown",
   "metadata": {},
   "source": [
    "### dect.items()\n"
   ]
  },
  {
   "cell_type": "code",
   "execution_count": 12,
   "metadata": {},
   "outputs": [
    {
     "name": "stdout",
     "output_type": "stream",
     "text": [
      "osama skills is :\n",
      "--HTML => 70%\n",
      "--CSS => 80%\n",
      "--JS => 70%\n",
      "Ahmed skills is :\n",
      "--HTML-1 => 90%\n",
      "--CSS-1 => 80%\n",
      "--JS-1 => 90%\n",
      "dict_items([('osama', {'HTML': '70%', 'CSS': '80%', 'JS': '70%'}), ('Ahmed', {'HTML-1': '90%', 'CSS-1': '80%', 'JS-1': '90%'})])\n",
      "{'osama': {'HTML': '70%', 'CSS': '80%', 'JS': '70%'}, 'Ahmed': {'HTML-1': '90%', 'CSS-1': '80%', 'JS-1': '90%'}}\n"
     ]
    }
   ],
   "source": [
    "for person, skills in peoples.items():\n",
    "    print(f\"{person} skills is :\")\n",
    "    for skillNM, skillVL in skills.items():\n",
    "        print(f\"--{skillNM} => {skillVL}\")\n",
    "print(peoples.items())\n",
    "print(peoples)"
   ]
  },
  {
   "cell_type": "markdown",
   "metadata": {},
   "source": [
    "### nested list\n"
   ]
  },
  {
   "cell_type": "code",
   "execution_count": 13,
   "metadata": {},
   "outputs": [
    {
     "name": "stdout",
     "output_type": "stream",
     "text": [
      "1\n",
      "2\n",
      "3\n",
      "##########\n",
      "4\n",
      "5555\n",
      "6\n",
      "##########\n",
      "7\n",
      "8\n",
      "9\n",
      "##########\n"
     ]
    }
   ],
   "source": [
    "xx = [[\"1\", \"2\", \"3\"], [\"4\", \"5555\", \"6\"], [\"7\", \"8\", \"9\"]]\n",
    "for x in xx:\n",
    "    for y in x:\n",
    "        print(y)\n",
    "    print(\"#\" * 10)"
   ]
  },
  {
   "cell_type": "markdown",
   "metadata": {},
   "source": [
    "### Nested Dect\n"
   ]
  },
  {
   "cell_type": "code",
   "execution_count": 14,
   "metadata": {},
   "outputs": [
    {
     "name": "stdout",
     "output_type": "stream",
     "text": [
      "{'Html': '70%', 'Css': '80%', 'Js': '70%'}\n",
      "{'Html': '90%', 'Css': '80%', 'Js': '90%'}\n",
      "{'Html': '70%', 'Css': '60%', 'Js': '90%'}\n",
      "80%\n",
      "90%\n",
      "70%\n",
      "=-=-=-=-=-=-=-=-=-=-=-=-=-=-=-=-=-=-=-=-\n",
      "Osama Skills Is: \n",
      "  - Html => 70%\n",
      "  - Css => 80%\n",
      "  - Js => 70%\n",
      "Ahmed Skills Is: \n",
      "  - Html => 90%\n",
      "  - Css => 80%\n",
      "  - Js => 90%\n",
      "Sayed Skills Is: \n",
      "  - Html => 70%\n",
      "  - Css => 60%\n",
      "  - Js => 90%\n"
     ]
    }
   ],
   "source": [
    "peoples = {\n",
    "    \"Osama\": {\"Html\": \"70%\", \"Css\": \"80%\", \"Js\": \"70%\"},\n",
    "    \"Ahmed\": {\"Html\": \"90%\", \"Css\": \"80%\", \"Js\": \"90%\"},\n",
    "    \"Sayed\": {\"Html\": \"70%\", \"Css\": \"60%\", \"Js\": \"90%\"},\n",
    "}\n",
    "\n",
    "print(peoples[\"Osama\"])\n",
    "print(peoples[\"Ahmed\"])\n",
    "print(peoples[\"Sayed\"])\n",
    "\n",
    "print(peoples[\"Osama\"][\"Css\"])\n",
    "print(peoples[\"Ahmed\"][\"Js\"])\n",
    "print(peoples[\"Sayed\"][\"Html\"])\n",
    "\n",
    "print(\"=-\" * 20)\n",
    "\n",
    "for name in peoples:\n",
    "    print(f\"{name} Skills Is: \")\n",
    "    for skill in peoples[name]:\n",
    "        print(f\"  - {skill} => {peoples[name][skill]}\")"
   ]
  },
  {
   "cell_type": "markdown",
   "metadata": {},
   "source": [
    "# 10- Function\n"
   ]
  },
  {
   "cell_type": "code",
   "execution_count": 15,
   "metadata": {},
   "outputs": [
    {
     "name": "stdout",
     "output_type": "stream",
     "text": [
      "Hello Ahmed \n",
      "Your study is : \n",
      "--CS\n",
      "--AI\n",
      "--ML\n",
      "Your skills is : \n",
      "--Html => 70%\n",
      "--Csss => 85%\n",
      "--Jquery => 95%\n",
      "###### func-2 ######\n",
      "Hello Ahmed \n",
      "Your study is : \n",
      "--CS\n",
      "--AI\n",
      "--ML\n",
      "Your skills is : \n",
      "--Html => 70%\n",
      "--Csss => 85%\n",
      "--Jquery => 95%\n"
     ]
    }
   ],
   "source": [
    "def ShowSkills(name, *study, **skills):\n",
    "    print(f\"Hello {name} \")\n",
    "    print(\"Your study is : \")\n",
    "    for std in study:\n",
    "        print(f\"--{std}\")\n",
    "    print(\"Your skills is : \")\n",
    "    for skill, skillValue in skills.items():\n",
    "        print(f\"--{skill} => {skillValue}\")\n",
    "\n",
    "\n",
    "study = [\"CS\", \"AI\", \"ML\"]\n",
    "\n",
    "skills = {\"Html\": \"70%\", \"Csss\": \"85%\", \"Jquery\": \"95%\"}\n",
    "\n",
    "ShowSkills(\"Ahmed\", \"CS\", \"AI\", \"ML\", Html=\"70%\", Csss=\"85%\", Jquery=\"95%\")\n",
    "print(\" func-2 \".center(20, \"#\"))\n",
    "ShowSkills(\"Ahmed\", *study, **skills)"
   ]
  },
  {
   "cell_type": "code",
   "execution_count": 16,
   "metadata": {},
   "outputs": [
    {
     "name": "stdout",
     "output_type": "stream",
     "text": [
      "Hello => Ahmed M Bassiouny\n",
      "<class 'function'>\n"
     ]
    }
   ],
   "source": [
    "hello = lambda f, s, l: f\"Hello => {f} {s.capitalize():.1s} {l}\"\n",
    "print(hello(\"Ahmed\", \"mohamed\", \"Bassiouny\"))\n",
    "print(type(hello))"
   ]
  },
  {
   "cell_type": "markdown",
   "metadata": {},
   "source": [
    "# 11- files\n"
   ]
  },
  {
   "cell_type": "code",
   "execution_count": 17,
   "metadata": {},
   "outputs": [
    {
     "ename": "FileNotFoundError",
     "evalue": "[Errno 2] No such file or directory: 'files/test.txt'",
     "output_type": "error",
     "traceback": [
      "\u001b[1;31m---------------------------------------------------------------------------\u001b[0m",
      "\u001b[1;31mFileNotFoundError\u001b[0m                         Traceback (most recent call last)",
      "\u001b[1;32md:\\study\\Courses\\python\\study py\\(py&sqlite)revision.ipynb Cell 36\u001b[0m line \u001b[0;36m1\n\u001b[1;32m----> <a href='vscode-notebook-cell:/d%3A/study/Courses/python/study%20py/%28py%26sqlite%29revision.ipynb#X50sZmlsZQ%3D%3D?line=0'>1</a>\u001b[0m myFile \u001b[39m=\u001b[39m \u001b[39mopen\u001b[39;49m(\u001b[39m\"\u001b[39;49m\u001b[39mfiles/test.txt\u001b[39;49m\u001b[39m\"\u001b[39;49m)  \u001b[39m# ,r ,w ,a\u001b[39;00m\n\u001b[0;32m      <a href='vscode-notebook-cell:/d%3A/study/Courses/python/study%20py/%28py%26sqlite%29revision.ipynb#X50sZmlsZQ%3D%3D?line=1'>2</a>\u001b[0m \u001b[39mprint\u001b[39m(\u001b[39mtype\u001b[39m(myFile))\n\u001b[0;32m      <a href='vscode-notebook-cell:/d%3A/study/Courses/python/study%20py/%28py%26sqlite%29revision.ipynb#X50sZmlsZQ%3D%3D?line=2'>3</a>\u001b[0m \u001b[39mprint\u001b[39m(myFile)\n",
      "File \u001b[1;32m~\\AppData\\Roaming\\Python\\Python312\\site-packages\\IPython\\core\\interactiveshell.py:286\u001b[0m, in \u001b[0;36m_modified_open\u001b[1;34m(file, *args, **kwargs)\u001b[0m\n\u001b[0;32m    279\u001b[0m \u001b[39mif\u001b[39;00m file \u001b[39min\u001b[39;00m {\u001b[39m0\u001b[39m, \u001b[39m1\u001b[39m, \u001b[39m2\u001b[39m}:\n\u001b[0;32m    280\u001b[0m     \u001b[39mraise\u001b[39;00m \u001b[39mValueError\u001b[39;00m(\n\u001b[0;32m    281\u001b[0m         \u001b[39mf\u001b[39m\u001b[39m\"\u001b[39m\u001b[39mIPython won\u001b[39m\u001b[39m'\u001b[39m\u001b[39mt let you open fd=\u001b[39m\u001b[39m{\u001b[39;00mfile\u001b[39m}\u001b[39;00m\u001b[39m by default \u001b[39m\u001b[39m\"\u001b[39m\n\u001b[0;32m    282\u001b[0m         \u001b[39m\"\u001b[39m\u001b[39mas it is likely to crash IPython. If you know what you are doing, \u001b[39m\u001b[39m\"\u001b[39m\n\u001b[0;32m    283\u001b[0m         \u001b[39m\"\u001b[39m\u001b[39myou can use builtins\u001b[39m\u001b[39m'\u001b[39m\u001b[39m open.\u001b[39m\u001b[39m\"\u001b[39m\n\u001b[0;32m    284\u001b[0m     )\n\u001b[1;32m--> 286\u001b[0m \u001b[39mreturn\u001b[39;00m io_open(file, \u001b[39m*\u001b[39;49margs, \u001b[39m*\u001b[39;49m\u001b[39m*\u001b[39;49mkwargs)\n",
      "\u001b[1;31mFileNotFoundError\u001b[0m: [Errno 2] No such file or directory: 'files/test.txt'"
     ]
    }
   ],
   "source": [
    "myFile = open(\"files/test.txt\")  # ,r ,w ,a\n",
    "print(type(myFile))\n",
    "print(myFile)"
   ]
  },
  {
   "cell_type": "markdown",
   "metadata": {},
   "source": [
    "#### read\n"
   ]
  },
  {
   "cell_type": "code",
   "execution_count": 18,
   "metadata": {},
   "outputs": [
    {
     "name": "stdout",
     "output_type": "stream",
     "text": [
      "\u0000\u0000\u0000\u0000\u0000\n",
      "\u0000\u0000\u0000\u0000\u0000Ahmed \n",
      "\n",
      "['Ahmed Mohamed Bassiouny \\n', ' Ahmed Mohamed Bassiouny \\n', ' Ahmed Mohamed Bassiouny \\n', ' Ahmed Mohamed Bassiouny \\n', ' Ahmed Mohamed Bassiouny \\n', ' Ahmed Mohamed Bassiouny \\n', ' Ahmed Mohamed Bassiouny \\n', ' Ahmed Mohamed Bassiouny \\n', ' Ahmed Mohamed Bassiouny \\n', ' Ahmed Mohamed Bassiouny \\n', ' ahmed\\n', 'ahmed\\n', 'ahmed\\n', 'Ahmed \\n', 'Ahmed Mohamed Bassiouny \\n', ' Ahmed Mohamed Bassiouny \\n', ' Ahmed Mohamed Bassiouny \\n', ' Ahmed Mohamed Bassiouny \\n', ' Ahmed Mohamed Bassiouny \\n', ' Ahmed Mohamed Bassiouny \\n', ' Ahmed Mohamed Bassiouny \\n', ' Ahmed Mohamed Bassiouny \\n', ' Ahmed Mohamed Bassiouny \\n', ' Ahmed Mohamed Bassiouny \\n', ' ahmed\\n', 'ahmed\\n', 'ahmed\\n', 'Ahmed \\n', 'Ahmed Mohamed Bassiouny \\n', ' Ahmed Mohamed Bassiouny \\n', ' Ahmed Mohamed Bassiouny \\n', ' Ahmed Mohamed Bassiouny \\n', ' Ahmed Mohamed Bassiouny \\n', ' Ahmed Mohamed Bassiouny \\n', ' Ahmed Mohamed Bassiouny \\n', ' Ahmed Mohamed Bassiouny \\n', ' Ahmed Mohamed Bassiouny \\n', ' Ahmed Mohamed Bassiouny \\n', ' ahmed\\n', 'ahmed\\n', 'ahmed\\n', 'Ahmed \\n', 'Ahmed Mohamed Bassiouny \\n', ' Ahmed Mohamed Bassiouny \\n', ' Ahmed Mohamed Bassiouny \\n', ' Ahmed Mohamed Bassiouny \\n', ' Ahmed Mohamed Bassiouny \\n', ' Ahmed Mohamed Bassiouny \\n', ' Ahmed Mohamed Bassiouny \\n', ' Ahmed Mohamed Bassiouny \\n', ' Ahmed Mohamed Bassiouny \\n', ' Ahmed Mohamed Bassiouny \\n', ' ahmed\\n', 'ahmed\\n', 'ahmed\\n', 'Ahmed \\n', 'Ahmed Mohamed Bassiouny \\n', ' Ahmed Mohamed Bassiouny \\n', ' Ahmed Mohamed Bassiouny \\n', ' Ahmed Mohamed Bassiouny \\n', ' Ahmed Mohamed Bassiouny \\n', ' Ahmed Mohamed Bassiouny \\n', ' Ahmed Mohamed Bassiouny \\n', ' Ahmed Mohamed Bassiouny \\n', ' Ahmed Mohamed Bassiouny \\n', ' Ahmed Mohamed Bassiouny \\n', ' ahmed\\n', 'ahmed\\n', 'ahmed\\n', 'Ahmed \\n', 'Ahmed Mohamed Bassiouny \\n', ' Ahmed Mohamed Bassiouny \\n', ' Ahmed Mohamed Bassiouny \\n', ' Ahmed Mohamed Bassiouny \\n', ' Ahmed Mohamed Bassiouny \\n', ' Ahmed Mohamed Bassiouny \\n', ' Ahmed Mohamed Bassiouny \\n', ' Ahmed Mohamed Bassiouny \\n', ' Ahmed Mohamed Bassiouny \\n', ' Ahmed Mohamed Bassiouny \\n', ' ahmed\\n', 'ahmed\\n', 'ahmed\\n']\n"
     ]
    }
   ],
   "source": [
    "## read\n",
    "myFile = open(\"files/test.txt\", \"r\")\n",
    "print(myFile.read(5))\n",
    "print(myFile.readline())\n",
    "print(myFile.readlines())"
   ]
  },
  {
   "cell_type": "markdown",
   "metadata": {},
   "source": [
    "#### write & append\n"
   ]
  },
  {
   "cell_type": "code",
   "execution_count": null,
   "metadata": {},
   "outputs": [],
   "source": [
    "## write\n",
    "myFile = open(\"files/test.txt\", \"w\")\n",
    "myFile.write(\"Ahmed \\n\")\n",
    "myFile.write(\"Ahmed Mohamed Bassiouny \\n \" * 10)\n",
    "lst = [\"ahmed\\n\", \"ahmed\\n\", \"ahmed\\n\"]\n",
    "myFile.writelines(lst)\n",
    "myFile.close()\n",
    "\n",
    "## append\n",
    "myFile = open(\"files/test.txt\", \"a\")\n",
    "myFile.write(\"Ahmed \\n\")\n",
    "myFile.write(\"Ahmed Mohamed Bassiouny \\n \" * 10)\n",
    "lst = [\"ahmed\\n\", \"ahmed\\n\", \"ahmed\\n\"]\n",
    "myFile.writelines(lst)\n",
    "myFile.close()"
   ]
  },
  {
   "cell_type": "markdown",
   "metadata": {},
   "source": [
    "#### tell() & truncate() & seek()\n"
   ]
  },
  {
   "cell_type": "code",
   "execution_count": null,
   "metadata": {},
   "outputs": [
    {
     "name": "stdout",
     "output_type": "stream",
     "text": [
      "\n"
     ]
    }
   ],
   "source": [
    "## tell => tell current index to write\n",
    "myFile = open(\"files/test.txt\", \"a\")\n",
    "myFile.tell()\n",
    "\n",
    "## truncate => clear file content after given index\n",
    "myFile = open(\"files/test.txt\", \"a\")\n",
    "myFile.truncate(10)\n",
    "myFile.close()\n",
    "\n",
    "## seek() => set current index to read\n",
    "myFile = open(\"files/test.txt\", \"r\")\n",
    "myFile.seek(50)\n",
    "print(myFile.read())\n",
    "myFile.close()"
   ]
  },
  {
   "cell_type": "markdown",
   "metadata": {},
   "source": [
    "# 12- Built-in-Function\n"
   ]
  },
  {
   "cell_type": "markdown",
   "metadata": {},
   "source": [
    "### All()\n"
   ]
  },
  {
   "cell_type": "code",
   "execution_count": null,
   "metadata": {},
   "outputs": [
    {
     "name": "stdout",
     "output_type": "stream",
     "text": [
      "All items are greater than 0\n"
     ]
    }
   ],
   "source": [
    "items = [1, 2, 3, 4, 5]\n",
    "if all(item > 0 for item in items):\n",
    "    print(\"All items are greater than 0\")\n",
    "else:\n",
    "    print(\"Not all items are greater than 0\")"
   ]
  },
  {
   "cell_type": "markdown",
   "metadata": {},
   "source": [
    "### any()\n"
   ]
  },
  {
   "cell_type": "code",
   "execution_count": null,
   "metadata": {},
   "outputs": [
    {
     "name": "stdout",
     "output_type": "stream",
     "text": [
      "one item is greater than 0\n"
     ]
    }
   ],
   "source": [
    "items = [1, 2, 0, 4, 5]\n",
    "if any(item > 0 for item in items):\n",
    "    print(\"one item is greater than 0\")\n",
    "else:\n",
    "    print(\"Not any items are greater than 0\")"
   ]
  },
  {
   "cell_type": "markdown",
   "metadata": {},
   "source": [
    "### bin() => integet to binary\n"
   ]
  },
  {
   "cell_type": "code",
   "execution_count": null,
   "metadata": {},
   "outputs": [
    {
     "data": {
      "text/plain": [
       "'0b1010'"
      ]
     },
     "execution_count": 23,
     "metadata": {},
     "output_type": "execute_result"
    }
   ],
   "source": [
    "bin(10)"
   ]
  },
  {
   "cell_type": "markdown",
   "metadata": {},
   "source": [
    "### id() => id in memory\n"
   ]
  },
  {
   "cell_type": "code",
   "execution_count": null,
   "metadata": {},
   "outputs": [
    {
     "name": "stdout",
     "output_type": "stream",
     "text": [
      "140718112351712\n",
      "140718113147928\n",
      "140718113147960\n",
      "2340470770016\n"
     ]
    }
   ],
   "source": [
    "w = False\n",
    "x = 20\n",
    "y = 21\n",
    "z = \"AMB\"\n",
    "print(id(w))\n",
    "print(id(x))\n",
    "print(id(y))\n",
    "print(id(z))"
   ]
  },
  {
   "cell_type": "markdown",
   "metadata": {},
   "source": [
    "### sum()\n"
   ]
  },
  {
   "cell_type": "code",
   "execution_count": null,
   "metadata": {},
   "outputs": [
    {
     "name": "stdout",
     "output_type": "stream",
     "text": [
      "100\n",
      "140\n"
     ]
    }
   ],
   "source": [
    "x = [10, 20, 30, 40]\n",
    "print(sum(x))\n",
    "print(sum(x, 40))"
   ]
  },
  {
   "cell_type": "markdown",
   "metadata": {},
   "source": [
    "### round()\n"
   ]
  },
  {
   "cell_type": "code",
   "execution_count": null,
   "metadata": {},
   "outputs": [
    {
     "name": "stdout",
     "output_type": "stream",
     "text": [
      "2.658\n"
     ]
    }
   ],
   "source": [
    "print(round(2.6583, 3))"
   ]
  },
  {
   "cell_type": "markdown",
   "metadata": {},
   "source": [
    "### range()\n"
   ]
  },
  {
   "cell_type": "code",
   "execution_count": null,
   "metadata": {},
   "outputs": [
    {
     "name": "stdout",
     "output_type": "stream",
     "text": [
      "[0, 2, 4, 6, 8, 10, 12, 14, 16, 18]\n"
     ]
    }
   ],
   "source": [
    "x = list(range(0, 20, 2))\n",
    "print(x)"
   ]
  },
  {
   "cell_type": "markdown",
   "metadata": {},
   "source": [
    "### print()\n"
   ]
  },
  {
   "cell_type": "code",
   "execution_count": null,
   "metadata": {},
   "outputs": [
    {
     "name": "stdout",
     "output_type": "stream",
     "text": [
      "Ahmed Mohamed Bassiouny\n",
      "Ahmed Mohamed Bassiouny\n",
      "Ahmed . Mohamed . Bassiouny\n",
      "Ahmed Mohamed\n",
      "Bassiouny\n"
     ]
    }
   ],
   "source": [
    "print(\"Ahmed Mohamed Bassiouny\")\n",
    "print(\"Ahmed\", \"Mohamed\", \"Bassiouny\")\n",
    "print(\"Ahmed\", \"Mohamed\", \"Bassiouny\", sep=\" . \")\n",
    "\n",
    "print(\"Ahmed\", end=\" \")\n",
    "print(\"Mohamed\")\n",
    "print(\"Bassiouny\")"
   ]
  },
  {
   "cell_type": "markdown",
   "metadata": {},
   "source": [
    "### abs()\n"
   ]
  },
  {
   "cell_type": "code",
   "execution_count": null,
   "metadata": {},
   "outputs": [
    {
     "name": "stdout",
     "output_type": "stream",
     "text": [
      "12\n",
      "12\n",
      "12.5\n"
     ]
    }
   ],
   "source": [
    "print(abs(12))\n",
    "print(abs(-12))\n",
    "print(abs(-12.5))"
   ]
  },
  {
   "cell_type": "markdown",
   "metadata": {},
   "source": [
    "### pow()\n"
   ]
  },
  {
   "cell_type": "code",
   "execution_count": null,
   "metadata": {},
   "outputs": [
    {
     "data": {
      "text/plain": [
       "5"
      ]
     },
     "execution_count": 30,
     "metadata": {},
     "output_type": "execute_result"
    }
   ],
   "source": [
    "# pow(base, exp, mod)\n",
    "pow(5, 2)  # => 25\n",
    "pow(5, 2, 10)  # => 25 % 10 = 5"
   ]
  },
  {
   "cell_type": "markdown",
   "metadata": {},
   "source": [
    "### min() & max()\n"
   ]
  },
  {
   "cell_type": "code",
   "execution_count": null,
   "metadata": {},
   "outputs": [
    {
     "name": "stdout",
     "output_type": "stream",
     "text": [
      "-15\n",
      "ahmed\n",
      "z\n",
      "-100\n"
     ]
    }
   ],
   "source": [
    "nums = [1, 2, 3, 100, -15, 20]\n",
    "abc = [\"a\", \"b\", \"c\", \"z\"]\n",
    "\n",
    "print(min(nums))\n",
    "print(min(\"ahmed\", \"z\", \"x\"))\n",
    "\n",
    "print(max(abc))\n",
    "print(\n",
    "    min(\n",
    "        3,\n",
    "        -100,\n",
    "        -15,\n",
    "    )\n",
    ")"
   ]
  },
  {
   "cell_type": "markdown",
   "metadata": {},
   "source": [
    "### slice(str, end, stp)\n"
   ]
  },
  {
   "cell_type": "code",
   "execution_count": null,
   "metadata": {},
   "outputs": [
    {
     "name": "stdout",
     "output_type": "stream",
     "text": [
      "['a', 'b']\n",
      "['a', 'c']\n"
     ]
    }
   ],
   "source": [
    "x = [\"a\", \"b\", \"c\", \"d\"]\n",
    "print(x[0:2])\n",
    "print(x[slice(0, 3, 2)])"
   ]
  },
  {
   "cell_type": "markdown",
   "metadata": {},
   "source": [
    "### map()\n"
   ]
  },
  {
   "cell_type": "code",
   "execution_count": null,
   "metadata": {},
   "outputs": [
    {
     "name": "stdout",
     "output_type": "stream",
     "text": [
      "['ahmed', 'mohamed', 'bassiouny']\n"
     ]
    }
   ],
   "source": [
    "names = [\"ahmed\", \"mohamed\", \"bassiouny\"]\n",
    "\n",
    "# 1\n",
    "# names = list(map(str.upper, names))\n",
    "\n",
    "# 2\n",
    "# names = list(map( lambda name: name.upper(), names))\n",
    "\n",
    "# 3\n",
    "# def upp(n):\n",
    "#   return n.upper()\n",
    "# names = list(map( upp, names))\n",
    "\n",
    "print(names)"
   ]
  },
  {
   "cell_type": "markdown",
   "metadata": {},
   "source": [
    "### filter()\n"
   ]
  },
  {
   "cell_type": "code",
   "execution_count": null,
   "metadata": {},
   "outputs": [
    {
     "name": "stdout",
     "output_type": "stream",
     "text": [
      "['ahmed', 'ali']\n"
     ]
    }
   ],
   "source": [
    "names = [\"ahmed\", \"mohamed\", \"ali\"]\n",
    "\n",
    "names = list(filter((lambda name: name.startswith(\"a\")), names))\n",
    "print(names)"
   ]
  },
  {
   "cell_type": "markdown",
   "metadata": {},
   "source": [
    "### reduce()\n"
   ]
  },
  {
   "cell_type": "code",
   "execution_count": null,
   "metadata": {},
   "outputs": [
    {
     "name": "stdout",
     "output_type": "stream",
     "text": [
      "ahmed mohamed bassiouny\n"
     ]
    }
   ],
   "source": [
    "from functools import reduce\n",
    "\n",
    "\n",
    "names = [\"ahmed\", \"mohamed\", \"bassiouny\"]\n",
    "\n",
    "names = reduce((lambda n1, n2: n1 + \" \" + n2), names)\n",
    "print(names)"
   ]
  },
  {
   "cell_type": "markdown",
   "metadata": {},
   "source": []
  },
  {
   "cell_type": "markdown",
   "metadata": {},
   "source": [
    "### enumerate()\n"
   ]
  },
  {
   "cell_type": "code",
   "execution_count": null,
   "metadata": {},
   "outputs": [
    {
     "name": "stdout",
     "output_type": "stream",
     "text": [
      "1 - ahmed\n",
      "2 - mohamed\n",
      "3 - bassiouny\n"
     ]
    }
   ],
   "source": [
    "names = [\"ahmed\", \"mohamed\", \"bassiouny\"]\n",
    "newNames = enumerate(names, 1)\n",
    "\n",
    "for key, val in newNames:\n",
    "    print(f\"{key} - {val}\")"
   ]
  },
  {
   "cell_type": "markdown",
   "metadata": {},
   "source": [
    "### reversed()\n"
   ]
  },
  {
   "cell_type": "code",
   "execution_count": null,
   "metadata": {},
   "outputs": [
    {
     "name": "stdout",
     "output_type": "stream",
     "text": [
      "bassiouny\n",
      "mohamed\n",
      "ahmed\n"
     ]
    }
   ],
   "source": [
    "names = [\"ahmed\", \"mohamed\", \"bassiouny\"]\n",
    "newNames = reversed(names)\n",
    "\n",
    "for val in newNames:\n",
    "    print(f\"{val}\")"
   ]
  },
  {
   "cell_type": "markdown",
   "metadata": {},
   "source": [
    "### help()\n"
   ]
  },
  {
   "cell_type": "code",
   "execution_count": null,
   "metadata": {},
   "outputs": [
    {
     "name": "stdout",
     "output_type": "stream",
     "text": [
      "Help on built-in function print in module builtins:\n",
      "\n",
      "print(*args, sep=' ', end='\\n', file=None, flush=False)\n",
      "    Prints the values to a stream, or to sys.stdout by default.\n",
      "\n",
      "    sep\n",
      "      string inserted between values, default a space.\n",
      "    end\n",
      "      string appended after the last value, default a newline.\n",
      "    file\n",
      "      a file-like object (stream); defaults to the current sys.stdout.\n",
      "    flush\n",
      "      whether to forcibly flush the stream.\n",
      "\n",
      "None\n"
     ]
    }
   ],
   "source": [
    "print(help(print))"
   ]
  },
  {
   "cell_type": "markdown",
   "metadata": {},
   "source": [
    "# 13- Modules\n"
   ]
  },
  {
   "cell_type": "markdown",
   "metadata": {},
   "source": [
    "### random\n"
   ]
  },
  {
   "cell_type": "code",
   "execution_count": null,
   "metadata": {},
   "outputs": [
    {
     "name": "stdout",
     "output_type": "stream",
     "text": [
      "0.9828009682500443\n",
      "2\n",
      "6\n",
      "1\n",
      "1\n"
     ]
    }
   ],
   "source": [
    "import random\n",
    "\n",
    "print(random.random())\n",
    "print(random.randint(0, 2))\n",
    "print(random.randrange(0, 10, 2))\n",
    "\n",
    "from random import randint, randrange\n",
    "\n",
    "print(randint(0, 2))\n",
    "\n",
    "from random import randint as rint\n",
    "\n",
    "print(rint(0, 2))"
   ]
  },
  {
   "cell_type": "markdown",
   "metadata": {},
   "source": [
    "### termcolor & pyfiglet\n"
   ]
  },
  {
   "cell_type": "code",
   "execution_count": null,
   "metadata": {},
   "outputs": [
    {
     "name": "stdout",
     "output_type": "stream",
     "text": [
      "\u001b[33m    _    _                        _ \n",
      "   / \\  | |__  _ __ ___   ___  __| |\n",
      "  / _ \\ | '_ \\| '_ ` _ \\ / _ \\/ _` |\n",
      " / ___ \\| | | | | | | | |  __/ (_| |\n",
      "/_/   \\_\\_| |_|_| |_| |_|\\___|\\__,_|\n",
      "                                    \n",
      " ____                _                         \n",
      "| __ )  __ _ ___ ___(_) ___  _   _ _ __  _   _ \n",
      "|  _ \\ / _` / __/ __| |/ _ \\| | | | '_ \\| | | |\n",
      "| |_) | (_| \\__ \\__ \\ | (_) | |_| | | | | |_| |\n",
      "|____/ \\__,_|___/___/_|\\___/ \\__,_|_| |_|\\__, |\n",
      "                                         |___/ \n",
      "\u001b[0m\n"
     ]
    }
   ],
   "source": [
    "import termcolor\n",
    "import pyfiglet\n",
    "\n",
    "print(termcolor.colored(pyfiglet.figlet_format(\"Ahmed Bassiouny\"), color=\"yellow\"))\n",
    "# print(termcolor.colored(pyfiglet.figlet_format(\"Palastin\"), color=\"yellow\"))"
   ]
  },
  {
   "cell_type": "markdown",
   "metadata": {},
   "source": [
    "### pillow => images\n"
   ]
  },
  {
   "cell_type": "code",
   "execution_count": null,
   "metadata": {},
   "outputs": [],
   "source": [
    "from PIL import Image\n",
    "\n",
    "# open\n",
    "img = Image.open(\"files/ieee.jfif\")\n",
    "# show\n",
    "img.show()\n",
    "# crop-1\n",
    "img2 = img.crop((0, 0, 200, 200))\n",
    "img2.show()\n",
    "# crop-1\n",
    "points = (0, 0, 600, 600)\n",
    "img3 = img.crop(points)\n",
    "img3.show()\n",
    "# mode\n",
    "img4 = img.convert(\"L\")\n",
    "img4.show()"
   ]
  },
  {
   "cell_type": "markdown",
   "metadata": {},
   "source": [
    "### timeit\n"
   ]
  },
  {
   "cell_type": "code",
   "execution_count": null,
   "metadata": {},
   "outputs": [
    {
     "name": "stdout",
     "output_type": "stream",
     "text": [
      "0.436477900002501\n",
      "====================\n",
      "[0.3519289999967441, 0.3545937999879243, 0.3611133000085829, 0.3581140000023879, 0.3632528000016464]\n"
     ]
    }
   ],
   "source": [
    "import timeit\n",
    "\n",
    "\n",
    "print(timeit.timeit(stmt=\"random.randint(0, 50)\", setup=\"import random\"))\n",
    "\n",
    "print(\"=\" * 20)\n",
    "\n",
    "print(timeit.repeat(stmt=\"random.randint(0, 50)\", setup=\"import random\", repeat=5))"
   ]
  },
  {
   "cell_type": "markdown",
   "metadata": {},
   "source": [
    "### string\n"
   ]
  },
  {
   "cell_type": "code",
   "execution_count": null,
   "metadata": {},
   "outputs": [
    {
     "name": "stdout",
     "output_type": "stream",
     "text": [
      "0123456789\n",
      "01234567\n",
      "0123456789abcdefABCDEF\n",
      "abcdefghijklmnopqrstuvwxyz\n",
      "ABCDEFGHIJKLMNOPQRSTUVWXYZ\n",
      "abcdefghijklmnopqrstuvwxyzABCDEFGHIJKLMNOPQRSTUVWXYZ\n",
      " \t\n",
      "\u000b\f\n",
      "!\"#$%&'()*+,-./:;<=>?@[\\]^_`{|}~\n",
      "0123456789abcdefghijklmnopqrstuvwxyzABCDEFGHIJKLMNOPQRSTUVWXYZ!\"#$%&'()*+,-./:;<=>?@[\\]^_`{|}~ \t\n",
      "\u000b\f\n"
     ]
    }
   ],
   "source": [
    "import string as str\n",
    "\n",
    "print(str.digits)\n",
    "print(str.octdigits)\n",
    "print(str.hexdigits)\n",
    "\n",
    "print(str.ascii_lowercase)\n",
    "print(str.ascii_uppercase)\n",
    "print(str.ascii_letters)\n",
    "\n",
    "print(str.whitespace)\n",
    "\n",
    "print(str.punctuation)\n",
    "\n",
    "print(str.printable)"
   ]
  },
  {
   "cell_type": "markdown",
   "metadata": {},
   "source": [
    "# 14- Date & Time\n"
   ]
  },
  {
   "cell_type": "markdown",
   "metadata": {},
   "source": [
    "| Directive           | Example                  |\n",
    "| ------------------- | ------------------------ |\n",
    "| **Day**             | -----------              |\n",
    "| %a                  | Sun, Mon                 |\n",
    "| %a                  | Sunday                   |\n",
    "| %d                  | 01:31                    |\n",
    "| %-d                 | 1:31                     |\n",
    "| %w                  | 1:6                      |\n",
    "| **Day of the year** | -----------              |\n",
    "| %j                  | 001, 002, ..., 366       |\n",
    "| %-j                 | 1, 2, ..., 366           |\n",
    "| **Month**           | -----------              |\n",
    "| %d                  | Jan, Feb, ..., Dec       |\n",
    "| %B                  | January, February, ...   |\n",
    "| %m                  | 01, 02, ..., 12          |\n",
    "| %-m                 | 1, 2, ..., 12            |\n",
    "| **Year**            | -----------              |\n",
    "| %Y                  | 2013, 2019 ,....         |\n",
    "| %y                  | 0, 1, ..., 99            |\n",
    "| %-y                 | 00, 01, ..., 99          |\n",
    "| **Hour**            | -----------              |\n",
    "| %H                  | 00, 01, ..., 23          |\n",
    "| %-H                 | 0, 1, ..., 23            |\n",
    "| %I                  | 01, 02, ..., 12          |\n",
    "| %-I                 | 1, 2, ... 12             |\n",
    "| **Minute**          | -----------              |\n",
    "| %M                  | 00, 01, ..., 59          |\n",
    "| %-M                 | 0, 1, ..., 59            |\n",
    "| **Second**          | -----------              |\n",
    "| %S                  | 00, 01, ..., 59          |\n",
    "| %-S                 | 0, 1, ..., 59            |\n",
    "| **Microsecond**     | -----------              |\n",
    "| %f                  | 000000 - 999999          |\n",
    "| **PM or AM**        | -----------              |\n",
    "| %p                  | AM, PM                   |\n",
    "| **representation**  | -----------              |\n",
    "| %S                  | Mon Sep 30 07:06:05 2013 |\n",
    "| %x                  | 09/30/13                 |\n",
    "| %X                  | 07:06:05                 |\n"
   ]
  },
  {
   "cell_type": "code",
   "execution_count": null,
   "metadata": {},
   "outputs": [
    {
     "name": "stdout",
     "output_type": "stream",
     "text": [
      "2023-10-28 04:30:42.501676\n",
      "142 AM 00:00:00 05/22/03\n",
      "20.435318275154003\n"
     ]
    }
   ],
   "source": [
    "import datetime\n",
    "\n",
    "# Print The Current Date and Time\n",
    "print(datetime.datetime.now())\n",
    "\n",
    "# # Print The Current date\n",
    "# print(datetime.datetime.now().date())\n",
    "# # Print The Current date Year\n",
    "# print(datetime.datetime.now().date().year)\n",
    "# # Print The Current date Month\n",
    "# print(datetime.datetime.now().month)\n",
    "# # Print The Current date Day\n",
    "# print(datetime.datetime.now().day)\n",
    "\n",
    "# # Print The Current Time\n",
    "# print(datetime.datetime.now().time())\n",
    "# # Print The Current Time Hour\n",
    "# print(datetime.datetime.now().hour)\n",
    "# # Print The Current Time Minute\n",
    "# print(datetime.datetime.now().time().minute)\n",
    "# # Print The Current Time Second\n",
    "# print(datetime.datetime.now().time().second)\n",
    "\n",
    "toDay = datetime.datetime.now()\n",
    "\n",
    "birthDay = datetime.datetime(2003, 5, 22)\n",
    "print(birthDay.strftime(\"%j %p %X %x\"))\n",
    "\n",
    "myOld = toDay - birthDay\n",
    "print(myOld.days / 365.25)"
   ]
  },
  {
   "cell_type": "markdown",
   "metadata": {},
   "source": [
    "# 15- zip()\n"
   ]
  },
  {
   "cell_type": "markdown",
   "metadata": {},
   "source": [
    "- the zip controled the length from the shortest list of parameters\n"
   ]
  },
  {
   "cell_type": "code",
   "execution_count": null,
   "metadata": {},
   "outputs": [
    {
     "name": "stdout",
     "output_type": "stream",
     "text": [
      "<zip object at 0x00000220EFD27C00>\n",
      "====================\n",
      "1 (1, 'A')\n",
      "2 (2, 'B')\n",
      "3 (3, 'c')\n",
      "====================\n",
      " 1 => A\n",
      " 2 => B\n",
      " 3 => c\n",
      "====================\n",
      "[(1, 'A'), (2, 'B'), (3, 'c')]\n"
     ]
    }
   ],
   "source": [
    "listl = [1, 2, 3, 4]\n",
    "list2 = [\"A\", \"B\", \"c\"]\n",
    "\n",
    "ultimateList1 = zip(listl, list2)\n",
    "ultimateList2 = zip(listl, list2)\n",
    "ultimateList3 = zip(listl, list2)\n",
    "\n",
    "print(ultimateList1)\n",
    "\n",
    "\n",
    "print(\"=\" * 20)\n",
    "\n",
    "## -1\n",
    "for item in ultimateList1:\n",
    "    print(item[0] ,item)\n",
    "\n",
    "print(\"=\" * 20)\n",
    "\n",
    "## -2\n",
    "for key, item in ultimateList2:\n",
    "    print(f\" {key} => {item}\")\n",
    "\n",
    "print(\"=\" * 20)\n",
    "\n",
    "## -3\n",
    "print(list(ultimateList3))"
   ]
  },
  {
   "cell_type": "markdown",
   "metadata": {},
   "source": []
  },
  {
   "cell_type": "markdown",
   "metadata": {},
   "source": [
    "# 16- Decorators\n"
   ]
  },
  {
   "cell_type": "code",
   "execution_count": null,
   "metadata": {},
   "outputs": [
    {
     "name": "stdout",
     "output_type": "stream",
     "text": [
      "Start Function: looping\n",
      "1\n",
      "2\n",
      "3\n",
      "4\n",
      "5\n",
      "6\n",
      "7\n",
      "8\n",
      "9\n",
      "End func\n",
      "Time taken: 0.0009982585906982422\n"
     ]
    }
   ],
   "source": [
    "from time import time\n",
    "\n",
    "\n",
    "def speedTest(func):\n",
    "    def nested(x):\n",
    "        start = time() ; print(f\"Start Function: {func.__name__}\")\n",
    "        func(x)\n",
    "        end = time() ; print(\"End func\")\n",
    "        print(f\"Time taken: {end - start}\")\n",
    "\n",
    "    return nested\n",
    "\n",
    "\n",
    "@speedTest\n",
    "def looping(x):\n",
    "    for num in range(1, x):\n",
    "        print(num)\n",
    "\n",
    "\n",
    "looping(10)"
   ]
  },
  {
   "cell_type": "markdown",
   "metadata": {},
   "source": [
    "# 17- iterator\n"
   ]
  },
  {
   "cell_type": "markdown",
   "metadata": {},
   "source": [
    "- iter()\n",
    "- next()\n"
   ]
  },
  {
   "cell_type": "code",
   "execution_count": null,
   "metadata": {},
   "outputs": [
    {
     "name": "stdout",
     "output_type": "stream",
     "text": [
      "1\n",
      "2\n",
      "3\n",
      "==============================\n",
      "a\n",
      "b\n",
      "c\n",
      "==============================\n",
      "A\n",
      "M\n",
      "B\n"
     ]
    }
   ],
   "source": [
    "list1 = [1, 2, 3]\n",
    "\n",
    "for item1 in list1:\n",
    "    print(item1)\n",
    "\n",
    "print(\"=\" * 30)\n",
    "\n",
    "list2 = iter([\"a\", \"b\", \"c\"])\n",
    "print(next(list2))\n",
    "print(next(list2))\n",
    "print(next(list2))\n",
    "# print(next(list2)) => StopIteration:\n",
    "\n",
    "print(\"=\" * 30)\n",
    "\n",
    "list2 = iter(\"AMB\")\n",
    "print(next(list2))\n",
    "print(next(list2))\n",
    "print(next(list2))\n",
    "# print(next(list2)) => StopIteration:"
   ]
  },
  {
   "cell_type": "markdown",
   "metadata": {},
   "source": [
    "# 18- Generator\n"
   ]
  },
  {
   "cell_type": "code",
   "execution_count": null,
   "metadata": {},
   "outputs": [
    {
     "name": "stdout",
     "output_type": "stream",
     "text": [
      "8\n",
      "9\n",
      "10\n",
      "********************\n",
      "1\n",
      "3\n",
      "5\n",
      "7\n",
      "9\n",
      "11\n",
      "13\n",
      "15\n",
      "17\n",
      "19\n",
      "21\n",
      "23\n",
      "25\n",
      "27\n",
      "29\n",
      "********************\n",
      "[1, 3, 5, 7, 9, 11, 13, 15, 17, 19, 21, 23, 25, 27, 29]\n"
     ]
    }
   ],
   "source": [
    "def myGenerator(x):\n",
    "    yield x\n",
    "    x += 1\n",
    "    yield x\n",
    "    x += 1\n",
    "    yield x\n",
    "    x += 1\n",
    "\n",
    "\n",
    "gen = myGenerator(8)\n",
    "\n",
    "print(next(gen))\n",
    "print(next(gen))\n",
    "print(next(gen))\n",
    "# print(next(gen)) => StopIteration\n",
    "\n",
    "#******************** \n",
    "print(\"*\"*20)\n",
    "#********************\n",
    "\n",
    "def my_range(start, end, step=1):\n",
    "    while start < end:\n",
    "        yield start\n",
    "        start += step\n",
    "\n",
    "\n",
    "# Usage:\n",
    "for i in my_range(1, 30, 2):\n",
    "    print(i)\n",
    "\n",
    "#******************** \n",
    "print(\"*\"*20)\n",
    "#********************\n",
    "\n",
    "print(list(my_range(1, 30, 2)))"
   ]
  },
  {
   "cell_type": "markdown",
   "metadata": {},
   "source": [
    "# 19- DocString\n"
   ]
  },
  {
   "cell_type": "code",
   "execution_count": null,
   "metadata": {},
   "outputs": [
    {
     "name": "stdout",
     "output_type": "stream",
     "text": [
      "15\n",
      "============================================================\n",
      "['__annotations__', '__builtins__', '__call__', '__class__', '__closure__', '__code__', '__defaults__', '__delattr__', '__dict__', '__dir__', '__doc__', '__eq__', '__format__', '__ge__', '__get__', '__getattribute__', '__getstate__', '__globals__', '__gt__', '__hash__', '__init__', '__init_subclass__', '__kwdefaults__', '__le__', '__lt__', '__module__', '__name__', '__ne__', '__new__', '__qualname__', '__reduce__', '__reduce_ex__', '__repr__', '__setattr__', '__sizeof__', '__str__', '__subclasshook__', '__type_params__']\n",
      "============================================================\n",
      "Help on function sum in module __main__:\n",
      "\n",
      "sum(*args) -> int\n",
      "    func to sum all args\n",
      "\n",
      "None\n",
      "============================================================\n",
      "\n",
      "    func to sum all args\n",
      "    \n"
     ]
    }
   ],
   "source": [
    "def sum(*args,) -> int:\n",
    "    \"\"\"\n",
    "    func to sum all args\n",
    "    \"\"\"\n",
    "    total = 0\n",
    "    for num in args:\n",
    "        total += num\n",
    "    return total\n",
    "\n",
    "\n",
    "print(sum(1, 2, 3, 4, 5))\n",
    "print(\"==\" * 30)\n",
    "\n",
    "# all directories\n",
    "print(dir(sum))\n",
    "print(\"==\" * 30)\n",
    "\n",
    "# help\n",
    "print(help(sum))\n",
    "print(\"==\" * 30)\n",
    "\n",
    "# docstring\n",
    "print(sum.__doc__)"
   ]
  },
  {
   "cell_type": "markdown",
   "metadata": {},
   "source": [
    "# 20- Errors\n"
   ]
  },
  {
   "cell_type": "markdown",
   "metadata": {},
   "source": [
    "## raise\n"
   ]
  },
  {
   "cell_type": "code",
   "execution_count": null,
   "metadata": {},
   "outputs": [
    {
     "name": "stdout",
     "output_type": "stream",
     "text": [
      "V_Error\n",
      "hi1\n"
     ]
    },
    {
     "ename": "ValueError",
     "evalue": "V_Error",
     "output_type": "error",
     "traceback": [
      "\u001b[1;31m---------------------------------------------------------------------------\u001b[0m",
      "\u001b[1;31mValueError\u001b[0m                                Traceback (most recent call last)",
      "\u001b[1;32md:\\study\\Courses\\python\\study py\\py_revision.ipynb Cell 109\u001b[0m line \u001b[0;36m1\n\u001b[0;32m      <a href='vscode-notebook-cell:/d%3A/study/Courses/python/study%20py/py_revision.ipynb#Y215sZmlsZQ%3D%3D?line=6'>7</a>\u001b[0m     \u001b[39mprint\u001b[39m(\u001b[39m\"\u001b[39m\u001b[39mOk1\u001b[39m\u001b[39m\"\u001b[39m)\n\u001b[0;32m      <a href='vscode-notebook-cell:/d%3A/study/Courses/python/study%20py/py_revision.ipynb#Y215sZmlsZQ%3D%3D?line=8'>9</a>\u001b[0m \u001b[39mif\u001b[39;00m \u001b[39mtype\u001b[39m(name) \u001b[39m!=\u001b[39m \u001b[39mstr\u001b[39m:\n\u001b[1;32m---> <a href='vscode-notebook-cell:/d%3A/study/Courses/python/study%20py/py_revision.ipynb#Y215sZmlsZQ%3D%3D?line=9'>10</a>\u001b[0m     \u001b[39mraise\u001b[39;00m \u001b[39mValueError\u001b[39;00m(\u001b[39m\"\u001b[39m\u001b[39mV_Error\u001b[39m\u001b[39m\"\u001b[39m)\n\u001b[0;32m     <a href='vscode-notebook-cell:/d%3A/study/Courses/python/study%20py/py_revision.ipynb#Y215sZmlsZQ%3D%3D?line=10'>11</a>\u001b[0m     \u001b[39mprint\u001b[39m(\u001b[39m\"\u001b[39m\u001b[39mhi2\u001b[39m\u001b[39m\"\u001b[39m)\n\u001b[0;32m     <a href='vscode-notebook-cell:/d%3A/study/Courses/python/study%20py/py_revision.ipynb#Y215sZmlsZQ%3D%3D?line=11'>12</a>\u001b[0m \u001b[39melse\u001b[39;00m:\n",
      "\u001b[1;31mValueError\u001b[0m: V_Error"
     ]
    }
   ],
   "source": [
    "name = \"10\"\n",
    "\n",
    "if type(name) != str:\n",
    "    print(\"V_Error\")\n",
    "    print(\"hi1\")\n",
    "else:\n",
    "    print(\"Ok1\")\n",
    "\n",
    "if type(name) != str:\n",
    "    raise ValueError(\"V_Error\")\n",
    "    print(\"hi2\")\n",
    "else:\n",
    "    print(\"Ok2\")"
   ]
  },
  {
   "cell_type": "markdown",
   "metadata": {},
   "source": [
    "## Try & Except\n"
   ]
  },
  {
   "cell_type": "code",
   "execution_count": null,
   "metadata": {},
   "outputs": [
    {
     "name": "stdout",
     "output_type": "stream",
     "text": [
      "Error\n",
      "Finally\n"
     ]
    }
   ],
   "source": [
    "try:\n",
    "    print(5 / 0)\n",
    "    print(int(\"ahmed\"))\n",
    "    print(var)\n",
    "\n",
    "except ZeroDivisionError:\n",
    "    print(\"zero Division Error\")\n",
    "except ValueError:\n",
    "    print(\"Value Error\")\n",
    "except:\n",
    "    print(\"Error\")\n",
    "else:\n",
    "    print(\"No Error\")\n",
    "finally:\n",
    "    print(\"Finally\")"
   ]
  },
  {
   "cell_type": "markdown",
   "metadata": {},
   "source": [
    "# 21- Regular Expressions\n"
   ]
  },
  {
   "cell_type": "code",
   "execution_count": null,
   "metadata": {},
   "outputs": [
    {
     "name": "stdout",
     "output_type": "stream",
     "text": [
      "['ahmed@cs.com']\n",
      "Email Added\n",
      "['ahmed@cs.com']\n"
     ]
    }
   ],
   "source": [
    "import re\n",
    "\n",
    "# my_search = re.search(r\"[A-Z]{2}\", \"OOsamaEElzero\")\n",
    "#\n",
    "# print(my_search)\n",
    "# print(my_search.span())\n",
    "# print(my_search.string)\n",
    "# print(my_search.group())\n",
    "#\n",
    "# is_email = re.search(r\"[A-z0-9\\.]+@[A-z0-9]+\\.(com|net)\", \"Ahmed@AMB.com\")\n",
    "#\n",
    "# if is_email:\n",
    "#\n",
    "#   print(\"This is A Valid Email\")\n",
    "#\n",
    "#   print(is_email.span())\n",
    "#   print(is_email.string)\n",
    "#   print(is_email.group())\n",
    "#\n",
    "# else:\n",
    "#\n",
    "#   print(\"This is Not A Valid Email\")\n",
    "\n",
    "email_input = input(\"Please Write Your Email: \")\n",
    "\n",
    "search = re.findall(r\"[A-z0-9\\.]+@[A-z0-9]+\\.com|net\", email_input)\n",
    "\n",
    "empty_list = []\n",
    "\n",
    "print(search)\n",
    "\n",
    "if search != []:\n",
    "    empty_list.append(search)\n",
    "\n",
    "    print(\"Email Added\")\n",
    "\n",
    "else:\n",
    "    print(\"Invalid Email\")\n",
    "\n",
    "for email in empty_list:\n",
    "    print(email)"
   ]
  },
  {
   "cell_type": "markdown",
   "metadata": {},
   "source": [
    "## split()\n"
   ]
  },
  {
   "cell_type": "code",
   "execution_count": null,
   "metadata": {},
   "outputs": [
    {
     "name": "stdout",
     "output_type": "stream",
     "text": [
      "['I', 'Love', 'Python', 'Programming', 'Language']\n"
     ]
    }
   ],
   "source": [
    "string_one = \"I Love Python Programming Language\"\n",
    "\n",
    "search_one = re.split(r\"\\s\", string_one)\n",
    "# search_one = re.split(r\"\\s\", string_one, 1)\n",
    "# => ['I', 'Love Python Programming Language']\n",
    "\n",
    "print(search_one)"
   ]
  },
  {
   "cell_type": "markdown",
   "metadata": {},
   "source": [
    "## sub()\n"
   ]
  },
  {
   "cell_type": "code",
   "execution_count": null,
   "metadata": {},
   "outputs": [
    {
     "name": "stdout",
     "output_type": "stream",
     "text": [
      "---I-Love-Python---\n"
     ]
    }
   ],
   "source": [
    "my_string = \"   I Love Python   \"\n",
    "\n",
    "print(re.sub(r\"\\s\", \"-\", my_string))\n",
    "# print(re.sub(r\"\\s\", \"-\", my_string, 1))\n",
    "# => I-Love Python"
   ]
  },
  {
   "cell_type": "markdown",
   "metadata": {},
   "source": [
    "# 22- pass\n"
   ]
  },
  {
   "cell_type": "code",
   "execution_count": null,
   "metadata": {},
   "outputs": [
    {
     "name": "stdout",
     "output_type": "stream",
     "text": [
      "hello\n"
     ]
    }
   ],
   "source": [
    "for x in [1, 2, 3, 4]:\n",
    "    pass\n",
    "\n",
    "\n",
    "def func():\n",
    "    pass\n",
    "\n",
    "\n",
    "class student:\n",
    "    pass\n",
    "\n",
    "\n",
    "print(\"hello\")"
   ]
  },
  {
   "cell_type": "markdown",
   "metadata": {},
   "source": [
    "# 23- if\n"
   ]
  },
  {
   "cell_type": "markdown",
   "metadata": {},
   "source": [
    "- if in\n"
   ]
  },
  {
   "cell_type": "code",
   "execution_count": null,
   "metadata": {},
   "outputs": [
    {
     "name": "stdout",
     "output_type": "stream",
     "text": [
      "True\n",
      "False\n",
      "True\n"
     ]
    }
   ],
   "source": [
    "## 1\n",
    "txt = \"Ahmed Mohamed Bassiouny\"\n",
    "name = \"Mohamed\"\n",
    "if name in txt:\n",
    "    print(True)\n",
    "else:\n",
    "    print(False)\n",
    "\n",
    "## 2\n",
    "nums = [1, 2, 3, 4, 5]\n",
    "num = 50\n",
    "if num in nums:\n",
    "    print(True)\n",
    "else:\n",
    "    print(False)\n",
    "\n",
    "## 3\n",
    "dect = {\"name\": \"ahmed\", \"age\": 20}\n",
    "ietm = \"name\"\n",
    "if ietm in dect:\n",
    "    print(True)\n",
    "else:\n",
    "    print(False)"
   ]
  },
  {
   "cell_type": "markdown",
   "metadata": {},
   "source": [
    "- = if else\n"
   ]
  },
  {
   "cell_type": "code",
   "execution_count": null,
   "metadata": {},
   "outputs": [
    {
     "name": "stdout",
     "output_type": "stream",
     "text": [
      "No\n",
      "-6\n"
     ]
    }
   ],
   "source": [
    "# 1\n",
    "txt = \"Ahmed Mohamed Bassiouny\"\n",
    "name = \"Mohameyd\"\n",
    "\n",
    "chek = \"yes\" if name in txt else \"No\"\n",
    "print(chek)\n",
    "\n",
    "\n",
    "# 2\n",
    "num = -1\n",
    "\n",
    "num += 5 if num >= 0 else -5\n",
    "\n",
    "print(num)"
   ]
  },
  {
   "cell_type": "markdown",
   "metadata": {},
   "source": [
    "# 24- OOP\n"
   ]
  },
  {
   "cell_type": "markdown",
   "metadata": {},
   "source": [
    "- instance (Attributes & Methods)\n"
   ]
  },
  {
   "cell_type": "code",
   "execution_count": null,
   "metadata": {},
   "outputs": [
    {
     "name": "stdout",
     "output_type": "stream",
     "text": [
      "====================\n",
      "<class '__main__.student'>\n",
      "<__main__.student object at 0x00000244916E0650>\n",
      "====================\n",
      "ahmed\n",
      "Hello ahmed bassiouny you are in level 3 and your GPA is 3.9  \n"
     ]
    }
   ],
   "source": [
    "class student:\n",
    "    def __init__(self, fName, lName, GPA, Level):\n",
    "        self.fnm = fName\n",
    "        self.lnm = lName\n",
    "        self.GPA = GPA\n",
    "        self.lv = Level\n",
    "\n",
    "    def get_info(self):\n",
    "        return f\"Hello {self.fnm} {self.lnm} you are in level {self.lv} and your GPA is {self.GPA}  \"\n",
    "\n",
    "\n",
    "# ========================================\n",
    "print(\"=\" * 20)\n",
    "# ========================================\n",
    "\n",
    "student_1 = student(\"ahmed\", \"bassiouny\", 3.9, 3)\n",
    "\n",
    "print(student)\n",
    "print(student_1)\n",
    "\n",
    "# ========================================\n",
    "print(\"=\" * 20)\n",
    "# ========================================\n",
    "\n",
    "print(student_1.fnm)\n",
    "print(student_1.get_info())"
   ]
  },
  {
   "cell_type": "markdown",
   "metadata": {},
   "source": [
    "- class Attributes\n"
   ]
  },
  {
   "cell_type": "code",
   "execution_count": null,
   "metadata": {},
   "outputs": [
    {
     "name": "stdout",
     "output_type": "stream",
     "text": [
      "====================\n",
      "Hello ahmed bassiouny \n",
      "  you are in level 3 \n",
      "  and your GPA is 3.9 \n",
      "  your id is 1  \n",
      "Hello mohamed bassiouny \n",
      "  you are in level 3 \n",
      "  and your GPA is 3.9 \n",
      "  your id is 2  \n",
      "Hello ahmed mohamed \n",
      "  you are in level encorrect level \n",
      "  and your GPA is 3.9 \n",
      "  your id is 3  \n",
      "Hello bassiouny bassiouny \n",
      "  you are in level 3 \n",
      "  and your GPA is 3.9 \n",
      "  your id is 4  \n"
     ]
    }
   ],
   "source": [
    "class std:\n",
    "    allowed_levels = [1, 2, 3, 4]\n",
    "\n",
    "    students_num = 0\n",
    "\n",
    "    def __init__(self, fName, lName, GPA, Level):\n",
    "        self.fnm = fName\n",
    "        self.lnm = lName\n",
    "        self.GPA = GPA\n",
    "        self.lv = Level\n",
    "        std.students_num += 1\n",
    "\n",
    "    def get_info(self):\n",
    "        return f\"\"\"Hello {self.fnm} {self.lnm} \n",
    "  you are in level {self.lv if self.lv in std.allowed_levels else \"encorrect level\" } \n",
    "  and your GPA is {self.GPA} \n",
    "  your id is {std.students_num}  \"\"\"\n",
    "        # pass\n",
    "\n",
    "\n",
    "# ========================================\n",
    "print(\"=\" * 20)\n",
    "# ========================================\n",
    "\n",
    "student_1 = std(\"ahmed\", \"bassiouny\", 3.9, 3)\n",
    "print(student_1.get_info())\n",
    "\n",
    "student_2 = std(\"mohamed\", \"bassiouny\", 3.9, 3)\n",
    "print(student_2.get_info())\n",
    "\n",
    "student_3 = std(\"ahmed\", \"mohamed\", 3.9, 0)\n",
    "print(student_3.get_info())\n",
    "\n",
    "student_4 = std(\"bassiouny\", \"bassiouny\", 3.9, 3)\n",
    "print(student_4.get_info())"
   ]
  },
  {
   "cell_type": "markdown",
   "metadata": {},
   "source": [
    "- Class_methods & Static_methods\n"
   ]
  },
  {
   "cell_type": "code",
   "execution_count": null,
   "metadata": {},
   "outputs": [
    {
     "name": "stdout",
     "output_type": "stream",
     "text": [
      "Renault Logan 2010 12000\n",
      "3\n",
      "the pest car in the world\n"
     ]
    }
   ],
   "source": [
    "class Car:\n",
    "    def __init__(self, name, model, year, price):\n",
    "        self.name = name\n",
    "        self.model = model\n",
    "        self.year = year\n",
    "        self.price = price\n",
    "        Car.num_of_cars += 1\n",
    "\n",
    "    def get_info(self):\n",
    "        return f\"{self.name} {self.model} {self.year} {self.price}\"\n",
    "\n",
    "    num_of_cars = 0\n",
    "\n",
    "    @classmethod\n",
    "    def cars_num(cls):\n",
    "        return Car.num_of_cars\n",
    "\n",
    "    @staticmethod\n",
    "    def our_slogan():\n",
    "        return \"the pest car in the world\"\n",
    "\n",
    "\n",
    "car_1 = Car(\"Renault\", \"Logan\", 2010, 12000)\n",
    "car_2 = Car(\"aaaaa\", \"ABC\", 2019, 40000)\n",
    "car_3 = Car(\"tttt\", \"HMP\", 2013, 33250)\n",
    "\n",
    "print(car_1.get_info())\n",
    "print(Car.cars_num())\n",
    "print(Car.our_slogan())"
   ]
  },
  {
   "cell_type": "markdown",
   "metadata": {},
   "source": [
    "- Magic Methods\n"
   ]
  },
  {
   "cell_type": "code",
   "execution_count": null,
   "metadata": {},
   "outputs": [
    {
     "name": "stdout",
     "output_type": "stream",
     "text": [
      "Python 3.10 (2 methods)  => ['print', 'len']\n",
      "C++ 7.8 (1 methods)  => ['stack']\n",
      "False\n",
      "False\n",
      "2\n"
     ]
    }
   ],
   "source": [
    "class lang:\n",
    "    def __init__(self, name, version, methods):\n",
    "        self.name = name\n",
    "        self.version = version\n",
    "        self.methods = methods\n",
    "\n",
    "    def __str__(self):\n",
    "        return f\"{self.name} {self.version} ({len(self.methods)} methods)  => {self.methods}\"\n",
    "\n",
    "    def __len__(self):\n",
    "        return len(self.methods)\n",
    "\n",
    "    def __eq__(self, other):\n",
    "        return self.methods == other.methods\n",
    "\n",
    "\n",
    "lang_1 = lang(\"Python\", \"3.10\", [\"print\", \"len\"])\n",
    "lang_2 = lang(\"C++\", \"7.8\", [\"stack\"])\n",
    "\n",
    "print(lang_1)\n",
    "print(lang_2)\n",
    "\n",
    "print(lang_1 == lang_2)\n",
    "print(lang_1.__eq__(lang_2))\n",
    "\n",
    "print(len(lang_1))"
   ]
  },
  {
   "cell_type": "code",
   "execution_count": null,
   "metadata": {},
   "outputs": [
    {
     "name": "stdout",
     "output_type": "stream",
     "text": [
      "Name: Maria\n",
      "Salary: 10000\n",
      "Years: 2\n",
      "++++++++++++++++++++\n",
      "Name: ahmed\n",
      "Salary: 1000\n",
      "Years: 5\n",
      "emp_nums: 9\n",
      "Manager\n",
      "parent => hello ahmed\n"
     ]
    }
   ],
   "source": [
    "class Employee:\n",
    "    def __init__(self, name, salary, years):\n",
    "        self.name = name\n",
    "        self.salary = salary\n",
    "        self.years = years\n",
    "        print(f\"Name: {self.name}\")\n",
    "        print(f\"Salary: {self.salary}\")\n",
    "        print(f\"Years: {self.years}\")\n",
    "\n",
    "    def hello(self):\n",
    "        print(\"parent => hello\")\n",
    "\n",
    "\n",
    "emp1 = Employee(\"Maria\", 10000, 2)\n",
    "print(\"+\" * 20)\n",
    "\n",
    "\n",
    "class Manager(Employee):\n",
    "    def __init__(self, name, salary, years, emp_nums):\n",
    "        self.emp_nums = emp_nums\n",
    "\n",
    "        # 1\n",
    "        # Employee.__init__(self, name, salary, years)\n",
    "        # 2\n",
    "        super().__init__(name, salary, years)\n",
    "        print(f\"emp_nums: {self.emp_nums}\")\n",
    "        print(\"Manager\")\n",
    "\n",
    "    def hello(self):\n",
    "        print(f\"parent => hello {self.name}\")\n",
    "\n",
    "\n",
    "mng1 = Manager(\"ahmed\", 1000, 5, 9)\n",
    "mng1.hello()"
   ]
  },
  {
   "cell_type": "markdown",
   "metadata": {},
   "source": [
    "- property Decorator\n"
   ]
  },
  {
   "cell_type": "code",
   "execution_count": null,
   "metadata": {},
   "outputs": [
    {
     "name": "stdout",
     "output_type": "stream",
     "text": [
      "====================\n",
      "Hello ahmed bassiouny your GPA is 3.9 \n"
     ]
    }
   ],
   "source": [
    "class std:\n",
    "    def __init__(self, fName, lName, GPA):\n",
    "        self.fnm = fName\n",
    "        self.lnm = lName\n",
    "        self.GPA = GPA\n",
    "\n",
    "    @property\n",
    "    def get_info(self):\n",
    "        return f\"Hello {self.fnm} {self.lnm} your GPA is {self.GPA} \"\n",
    "\n",
    "\n",
    "# ========================================\n",
    "print(\"=\" * 20)\n",
    "# ========================================\n",
    "\n",
    "student_1 = std(\"ahmed\", \"bassiouny\", 3.9)\n",
    "print(student_1.get_info)\n",
    "# print(student_1.get_info()) # => Error"
   ]
  },
  {
   "cell_type": "markdown",
   "metadata": {},
   "source": [
    "- ABCs => Abstract Base Class\n"
   ]
  },
  {
   "cell_type": "code",
   "execution_count": null,
   "metadata": {},
   "outputs": [
    {
     "name": "stdout",
     "output_type": "stream",
     "text": [
      "True\n"
     ]
    }
   ],
   "source": [
    "from abc import ABCMeta, abstractmethod\n",
    "\n",
    "\n",
    "class programming(metaclass=ABCMeta):\n",
    "    @abstractmethod\n",
    "    def has_oop(self):\n",
    "        pass\n",
    "\n",
    "    def new_func(self):\n",
    "        pass\n",
    "\n",
    "\n",
    "class python(programming):\n",
    "    def has_oop(self):\n",
    "        return True\n",
    "\n",
    "    # pass\n",
    "\n",
    "\n",
    "class c(programming):\n",
    "    def has_oop(self):\n",
    "        return False\n",
    "\n",
    "\n",
    "PL_1 = python()\n",
    "print(PL_1.has_oop())"
   ]
  },
  {
   "cell_type": "markdown",
   "metadata": {},
   "source": [
    "# 25- Data Base (SQLite)\n"
   ]
  },
  {
   "cell_type": "markdown",
   "metadata": {},
   "source": [
    "- create table\n"
   ]
  },
  {
   "cell_type": "code",
   "execution_count": null,
   "metadata": {},
   "outputs": [
    {
     "data": {
      "text/plain": [
       "<sqlite3.Cursor at 0x220eff14d40>"
      ]
     },
     "execution_count": 98,
     "metadata": {},
     "output_type": "execute_result"
    }
   ],
   "source": [
    "# import\n",
    "import sqlite3\n",
    "\n",
    "# creat & connect\n",
    "db = sqlite3.connect(\"files/students.db\")\n",
    "\n",
    "# cursor\n",
    "cr = db.cursor()\n",
    "\n",
    "# create(1) table and fields\n",
    "# cr.execute(\"CREATE TABLE students (id INTEGER,name TEXT,age INTEGER,GPA INTEGER)  \")\n",
    "\n",
    "# create(2) table and fields only if not exists\n",
    "cr.execute(\n",
    "    \"CREATE  TABLE IF NOT EXISTS students (id INTEGER,name TEXT,age INTEGER,GPA INTEGER)  \"\n",
    ")\n",
    "\n",
    "# close\n",
    "# db.close()"
   ]
  },
  {
   "cell_type": "markdown",
   "metadata": {},
   "source": [
    "- insert data\n"
   ]
  },
  {
   "cell_type": "code",
   "execution_count": null,
   "metadata": {},
   "outputs": [],
   "source": [
    "# # insert(1)\n",
    "# cr.execute(\"insert into students(id, name, age, GPA) values(1, 'ahmed', 20, 3.9)\")\n",
    "# cr.execute(\"insert into students(id, name, age, GPA) values(2, 'mohamed', 23, 3.0)\")\n",
    "# cr.execute(\"insert into students(id, name, age, GPA) values(3, 'nour', 21, 2.5)\")\n",
    "\n",
    "# # insert(2)\n",
    "# users = [[1, 'ahmed', 20, 3.9], [2, 'mohamed', 23, 3.0], [3, 'nour', 21, 2.5]]\n",
    "# for user in users :\n",
    "#   cr.execute(\"insert into students(id, name, age, GPA) values(?,?,?,?)\", user)\n",
    "\n",
    "# insert(3)\n",
    "users = [[\"ahmed\", 20, 3.9], [\"mohamed\", 23, 3.0], [\"nour\", 21, 2.5]]\n",
    "for key, user in enumerate(users):\n",
    "    cr.execute(\n",
    "        f\"insert into students(id, name, age, GPA) values({key + 1},'{user[0]}',{user[1]},{user[2]})\"\n",
    "    )\n",
    "\n",
    "# commit\n",
    "db.commit()"
   ]
  },
  {
   "cell_type": "markdown",
   "metadata": {},
   "source": [
    "- fetch data\n"
   ]
  },
  {
   "cell_type": "code",
   "execution_count": null,
   "metadata": {},
   "outputs": [
    {
     "name": "stdout",
     "output_type": "stream",
     "text": [
      "====================\n",
      "1 => ahmed\n",
      "2 => mohamed\n",
      "3 => nour\n"
     ]
    }
   ],
   "source": [
    "# fetch execute\n",
    "# cr.execute(\"select * from students\")\n",
    "cr.execute(\"select id, name from students\")\n",
    "\n",
    "# # fetchone()\n",
    "# print(cr.fetchone())\n",
    "# print(cr.fetchone())\n",
    "# print(cr.fetchone()) # return None if empty or fetching all rows\n",
    "\n",
    "# # fetchall()\n",
    "# print(cr.fetchall())\n",
    "# print(cr.fetchall())  # return empty [] if empty or fetching all rows\n",
    "\n",
    "# # fetchmany()\n",
    "# print(cr.fetchmany(1))\n",
    "# print(cr.fetchmany(3))  # return empty [] if empty or fetching all rows\n",
    "\n",
    "print(\"=\" * 20)\n",
    "for x, y in cr.fetchall():\n",
    "    print(x, \"=>\", y)\n",
    "\n",
    "\n",
    "# db.close()"
   ]
  },
  {
   "cell_type": "markdown",
   "metadata": {},
   "source": [
    "- delete & Update\n"
   ]
  },
  {
   "cell_type": "code",
   "execution_count": null,
   "metadata": {},
   "outputs": [
    {
     "name": "stdout",
     "output_type": "stream",
     "text": [
      "====================\n"
     ]
    }
   ],
   "source": [
    "# 1- delete\n",
    "\n",
    "# delete_all\n",
    "cr.execute(\"delete from students \")\n",
    "\n",
    "# delete_some_data\n",
    "cr.execute(\"delete from students where id > 2 \")\n",
    "\n",
    "# 2- update\n",
    "\n",
    "# update_all\n",
    "cr.execute(\"update students set name = 'student' \")\n",
    "\n",
    "# update_some_data\n",
    "cr.execute(\"update students set name = 'std' where id > 2 \")\n",
    "\n",
    "\n",
    "# show data\n",
    "cr.execute(\"select id, name from students\")\n",
    "print(\"=\" * 20)\n",
    "\n",
    "for x, y in cr.fetchall():\n",
    "  cr.execute(f\"update students set name = 'MR.{y}' where id = {x} \")\n",
    "  print(x ,\"=>\", y)\n",
    "\n",
    "db.commit()\n",
    "# db.close()"
   ]
  },
  {
   "cell_type": "markdown",
   "metadata": {},
   "source": [
    "- Example-1 \n"
   ]
  },
  {
   "cell_type": "code",
   "execution_count": null,
   "metadata": {},
   "outputs": [
    {
     "name": "stdout",
     "output_type": "stream",
     "text": [
      "Error : no such table: students\n"
     ]
    }
   ],
   "source": [
    "import sqlite3\n",
    "\n",
    "\n",
    "def get_all_data():\n",
    "    try:\n",
    "        db = sqlite3.connect(\"students.db\")\n",
    "        cr = db.cursor()\n",
    "        cr.execute(\"SELECT * FROM students\")\n",
    "        res = cr.fetchall()\n",
    "\n",
    "        # way (1) to get data\n",
    "        for row in res:\n",
    "            print(f\"ID => {row[0]},name => {row[1]},age => {row[2]},GPA => {row[3]}\")\n",
    "\n",
    "        # # way (2) to get data\n",
    "        # for x, y, w, z in res :\n",
    "        #   print(f\"ID => {x},name => {y},age => {w},GPA => {z}\")\n",
    "\n",
    "    except sqlite3.Error as er:\n",
    "        print(f\"Error : {er}\")\n",
    "        db = None\n",
    "\n",
    "    finally:\n",
    "        if db:\n",
    "            db.close()\n",
    "            print(\"data base is closed\")\n",
    "\n",
    "\n",
    "get_all_data()"
   ]
  },
  {
   "cell_type": "markdown",
   "metadata": {},
   "source": [
    "- more\n"
   ]
  },
  {
   "cell_type": "code",
   "execution_count": null,
   "metadata": {},
   "outputs": [],
   "source": [
    "##################################################################\n",
    "### 1-Setting Up The Cursor to be more secured\n",
    "cr = db.cursor()\n",
    "\n",
    "my_tuple = (\"Pascal\", \"65\", 4)\n",
    "\n",
    "# Inserting Data\n",
    "cr.execute(\"insert into skills values(?, ?, ?)\", my_tuple)\n",
    "\n",
    "##################################################################\n",
    "### 2-Fetch Data From Database (order, limit, offset, [<, >, >=, ... ] , not, and, in)\n",
    "cr.execute(\"select * from skills order by name limit 3 offset 2\")\n",
    "cr.execute(\"select * from skills where user_id > 1\")\n",
    "cr.execute(\"select * from skills where user_id not in(1, 2, 3)\")"
   ]
  },
  {
   "cell_type": "markdown",
   "metadata": {},
   "source": [
    "- Example-2"
   ]
  },
  {
   "cell_type": "code",
   "execution_count": null,
   "metadata": {},
   "outputs": [
    {
     "name": "stdout",
     "output_type": "stream",
     "text": [
      "You Have 4 Skills.\n",
      "Showing Skills With Progress: \n",
      "Skill => Php, Progress => 20%\n",
      "Skill => Sql, Progress => 50%\n",
      "Skill => Py, Progress => 20%\n",
      "Skill => Js, Progress => 90%\n",
      "Connection To Database Is Closed\n"
     ]
    }
   ],
   "source": [
    "# -----------------------------------------------------\n",
    "# -- Databases => SQLite => Create Skills App Part 4 --\n",
    "# -----------------------------------------------------\n",
    "\n",
    "# Import SQLite Module\n",
    "import sqlite3\n",
    "\n",
    "# Create Database And Connect\n",
    "db = sqlite3.connect(\"files/app.db\")\n",
    "\n",
    "# Setting Up The Cursor\n",
    "cr = db.cursor()\n",
    "\n",
    "cr.execute(\n",
    "    \"CREATE  TABLE IF NOT EXISTS skills (name TEXT, progress INTEGER, user_id INTEGER) \"\n",
    ")\n",
    "\n",
    "\n",
    "def commit_and_close():\n",
    "    \"\"\"Commit Changes and Close Connection To Database\"\"\"\n",
    "    db.commit()  # Save (Commit) Changes\n",
    "    db.close()  # Close Database\n",
    "    print(\"Connection To Database Is Closed\")\n",
    "\n",
    "\n",
    "# My User ID\n",
    "uid = 1\n",
    "\n",
    "# Input Big Message\n",
    "input_message = \"\"\"\n",
    "What Do You Want To Do ?\n",
    "\"s\" => Show All Skills\n",
    "\"a\" => Add New Skill\n",
    "\"d\" => Delete A Skill\n",
    "\"u\" => Update Skill Progress\n",
    "\"q\" => Quit The App\n",
    "Choose Option:\n",
    "\"\"\"\n",
    "\n",
    "# Input Option Choose\n",
    "user_input = input(input_message).strip().lower()\n",
    "\n",
    "# Command List\n",
    "commands_list = [\"s\", \"a\", \"d\", \"u\", \"q\"]\n",
    "\n",
    "\n",
    "# Define The Methods\n",
    "def show_skills():\n",
    "    cr.execute(f\"select * from skills where user_id = '{uid}'\")\n",
    "\n",
    "    results = cr.fetchall()\n",
    "\n",
    "    print(f\"You Have {len(results)} Skills.\")\n",
    "\n",
    "    if len(results) > 0:\n",
    "        print(\"Showing Skills With Progress: \")\n",
    "\n",
    "    for row in results:\n",
    "        print(f\"Skill => {row[0]},\", end=\" \")\n",
    "\n",
    "        print(f\"Progress => {row[1]}%\")\n",
    "\n",
    "    commit_and_close()\n",
    "\n",
    "\n",
    "def add_skill():\n",
    "    sk = input(\"Write Skill Name: \").strip().capitalize()\n",
    "\n",
    "    cr.execute(f\"select name from skills where name = '{sk}' and user_id = '{uid}'\")\n",
    "\n",
    "    results = cr.fetchone()\n",
    "\n",
    "    if results == None:  # Theres No Skill With This Name In Database\n",
    "        prog = input(\"Write Skill Progress \").strip()\n",
    "\n",
    "        cr.execute(\n",
    "            f\"insert into skills(name, progress, user_id) values('{sk}', '{prog}', '{uid}')\"\n",
    "        )\n",
    "\n",
    "    else:  # Theres A Skill With This Name in Database\n",
    "        print(\"You Cannot Add It\")\n",
    "\n",
    "    commit_and_close()\n",
    "\n",
    "\n",
    "def delete_skill():\n",
    "    sk = input(\"Write Skill Name: \").strip().capitalize()\n",
    "\n",
    "    cr.execute(f\"delete from skills where name = '{sk}' and user_id = '{uid}'\")\n",
    "\n",
    "    commit_and_close()\n",
    "\n",
    "\n",
    "def update_skill():\n",
    "    sk = input(\"Write Skill Name: \").strip().capitalize()\n",
    "\n",
    "    prog = input(\"Write The New Skill Progress \").strip()\n",
    "\n",
    "    cr.execute(\n",
    "        f\"update skills set progress = '{prog}' where name = '{sk}' and user_id = '{uid}'\"\n",
    "    )\n",
    "\n",
    "    commit_and_close()\n",
    "\n",
    "\n",
    "# Check If Command Is Exists\n",
    "if user_input in commands_list:\n",
    "    # print(f\"Command Found {user_input}\")\n",
    "\n",
    "    if user_input == \"s\":\n",
    "        show_skills()\n",
    "\n",
    "    elif user_input == \"a\":\n",
    "        add_skill()\n",
    "\n",
    "    elif user_input == \"d\":\n",
    "        delete_skill()\n",
    "\n",
    "    elif user_input == \"u\":\n",
    "        update_skill()\n",
    "\n",
    "    else:\n",
    "        print(\"App Is Closed.\")\n",
    "\n",
    "        commit_and_close()\n",
    "\n",
    "else:\n",
    "    print(f'Sorry This Command \"{user_input}\" Is Not Found')"
   ]
  },
  {
   "cell_type": "code",
   "execution_count": null,
   "metadata": {},
   "outputs": [],
   "source": []
  }
 ],
 "metadata": {
  "kernelspec": {
   "display_name": "Python 3",
   "language": "python",
   "name": "python3"
  },
  "language_info": {
   "codemirror_mode": {
    "name": "ipython",
    "version": 3
   },
   "file_extension": ".py",
   "mimetype": "text/x-python",
   "name": "python",
   "nbconvert_exporter": "python",
   "pygments_lexer": "ipython3",
   "version": "3.12.0"
  }
 },
 "nbformat": 4,
 "nbformat_minor": 2
}
